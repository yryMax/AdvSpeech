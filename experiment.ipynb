{
 "cells": [
  {
   "cell_type": "code",
   "execution_count": 1,
   "id": "initial_id",
   "metadata": {
    "collapsed": true,
    "ExecuteTime": {
     "end_time": "2025-01-08T17:11:41.189191800Z",
     "start_time": "2025-01-08T17:11:37.002552900Z"
    }
   },
   "outputs": [],
   "source": [
    "import numpy as np\n",
    "\n",
    "from Metrics.FidelityMetrics import SNRMetric, PESQMetric, SECSMetric\n",
    "import os\n",
    "from util import *\n",
    "import pandas as pd"
   ]
  },
  {
   "cell_type": "code",
   "outputs": [
    {
     "name": "stdout",
     "output_type": "stream",
     "text": [
      "Loaded the voice encoder model on cuda in 3.80 seconds.\n"
     ]
    }
   ],
   "source": [
    "snr_metric = SNRMetric()\n",
    "pesq_metric = PESQMetric()\n",
    "secs_metric = SECSMetric()"
   ],
   "metadata": {
    "collapsed": false,
    "ExecuteTime": {
     "end_time": "2025-01-08T17:11:47.036372900Z",
     "start_time": "2025-01-08T17:11:42.494637300Z"
    }
   },
   "id": "79a47810f05b5d65",
   "execution_count": 2
  },
  {
   "cell_type": "code",
   "outputs": [],
   "source": [
    "folder = \"/mnt/d/repo/AntiFake/antifake\""
   ],
   "metadata": {
    "collapsed": false,
    "ExecuteTime": {
     "end_time": "2025-01-08T17:11:48.673075100Z",
     "start_time": "2025-01-08T17:11:48.669075500Z"
    }
   },
   "id": "80066d12d6277120",
   "execution_count": 3
  },
  {
   "cell_type": "code",
   "outputs": [],
   "source": [
    "subfiles = [f for f in os.listdir(folder) if f.endswith(\".wav\")]\n",
    "\n",
    "original = [f for f in subfiles if \"ffmpeg\" in f]\n",
    "antifake = [f for f in subfiles if \"antifake\" in f]\n",
    "def normalize_name(filename):\n",
    "    return filename.replace(\"ffmpeg\", \"\").replace(\"antifake\", \"\")\n",
    "original_dict = {normalize_name(f): f for f in original}\n",
    "antifake_dict = {normalize_name(f): f for f in antifake}\n",
    "\n",
    "paired_files = [(original_dict[name], antifake_dict[name]) \n",
    "                for name in original_dict.keys() \n",
    "                if name in antifake_dict]\n",
    "\n",
    "assert len(paired_files) == len(original_dict) == len(antifake_dict) == 76"
   ],
   "metadata": {
    "collapsed": false,
    "ExecuteTime": {
     "end_time": "2025-01-02T09:46:10.710543800Z",
     "start_time": "2025-01-02T09:46:10.621893100Z"
    }
   },
   "id": "2a882577c010295c",
   "execution_count": 4
  },
  {
   "cell_type": "code",
   "outputs": [
    {
     "name": "stdout",
     "output_type": "stream",
     "text": [
      "tensor(14.0513) tensor(228)\n",
      "snr (tensor(14.0513), tensor(3.4403))\n",
      "pesq (tensor(1.3316), tensor(0.2905))\n",
      "secs (tensor(0.4164), tensor(0.0789))\n"
     ]
    }
   ],
   "source": [
    "for original, antifake in paired_files:\n",
    "    original = load_wav(folder + \"/\" + original, target_sr=16000)\n",
    "    distorted = load_wav(folder + \"/\" + antifake, target_sr=16000)\n",
    "    original = original[: , :distorted.size(1)]\n",
    "    distorted = distorted[:, : original.size(1)]\n",
    "    snr_metric.update(original, distorted)\n",
    "    pesq_metric.update(original, distorted)\n",
    "    secs_metric.update(original, distorted)\n",
    "    \n",
    "print(\"snr\", snr_metric.compute())\n",
    "print(\"pesq\", pesq_metric.compute())\n",
    "print(\"secs\", secs_metric.compute())"
   ],
   "metadata": {
    "collapsed": false,
    "ExecuteTime": {
     "end_time": "2025-01-02T09:49:52.499039500Z",
     "start_time": "2025-01-02T09:49:36.336517900Z"
    }
   },
   "id": "dd92281ac13fdd13",
   "execution_count": 7
  },
  {
   "cell_type": "code",
   "outputs": [
    {
     "name": "stdout",
     "output_type": "stream",
     "text": [
      "mos_pred_mean 2.1834211365172735\n",
      "mos_pred_std 0.49559235089312387\n"
     ]
    }
   ],
   "source": [
    "mos_data = pd.read_csv(\"./results/NISQA_results.csv\")\n",
    "\n",
    "\n",
    "mos_data_antifake = mos_data[mos_data[\"deg\"].str.contains(\"antifake\")]\n",
    "\n",
    "mos_pred_mean = np.mean(mos_data_antifake[\"mos_pred\"])\n",
    "mos_pred_std_dev = np.std(mos_data_antifake[\"mos_pred\"])\n",
    "\n",
    "print(\"mos_pred_mean\", mos_pred_mean)\n",
    "print(\"mos_pred_std\", mos_pred_std_dev)"
   ],
   "metadata": {
    "collapsed": false,
    "ExecuteTime": {
     "end_time": "2025-01-02T16:17:29.628096100Z",
     "start_time": "2025-01-02T16:17:29.568514900Z"
    }
   },
   "id": "5d5a1a9d4217aa20",
   "execution_count": 12
  },
  {
   "cell_type": "code",
   "outputs": [
    {
     "name": "stdout",
     "output_type": "stream",
     "text": [
      "Loaded the voice encoder model on cuda in 0.01 seconds.\n",
      "1272_1 1272_1_advspeech_ssim_only_0.wav\n",
      "1272_1 1272_1_advspeech_ssim_only_1.wav\n",
      "1272_2 1272_2_advspeech_ssim_only_0.wav\n",
      "1272_2 1272_2_advspeech_ssim_only_1.wav\n",
      "1462_1 1462_1_advspeech_ssim_only_0.wav\n",
      "1462_1 1462_1_advspeech_ssim_only_1.wav\n",
      "1462_2 1462_2_advspeech_ssim_only_0.wav\n",
      "1462_2 1462_2_advspeech_ssim_only_1.wav\n",
      "1673_1 1673_1_advspeech_ssim_only_0.wav\n",
      "1673_1 1673_1_advspeech_ssim_only_1.wav\n",
      "1673_2 1673_2_advspeech_ssim_only_0.wav\n",
      "1673_2 1673_2_advspeech_ssim_only_1.wav\n",
      "174_1 174_1_advspeech_ssim_only_0.wav\n",
      "174_1 174_1_advspeech_ssim_only_1.wav\n",
      "174_2 174_2_advspeech_ssim_only_0.wav\n",
      "174_2 174_2_advspeech_ssim_only_1.wav\n",
      "1919_1 1919_1_advspeech_ssim_only_0.wav\n",
      "1919_1 1919_1_advspeech_ssim_only_1.wav\n",
      "1919_2 1919_2_advspeech_ssim_only_0.wav\n",
      "1919_2 1919_2_advspeech_ssim_only_1.wav\n",
      "1988_1 1988_1_advspeech_ssim_only_0.wav\n",
      "1988_1 1988_1_advspeech_ssim_only_1.wav\n",
      "1988_2 1988_2_advspeech_ssim_only_0.wav\n",
      "1988_2 1988_2_advspeech_ssim_only_1.wav\n",
      "1993_1 1993_1_advspeech_ssim_only_0.wav\n",
      "1993_1 1993_1_advspeech_ssim_only_1.wav\n",
      "1993_2 1993_2_advspeech_ssim_only_0.wav\n",
      "2035_1 2035_1_advspeech_ssim_only_0.wav\n",
      "2035_1 2035_1_advspeech_ssim_only_1.wav\n",
      "2035_2 2035_2_advspeech_ssim_only_0.wav\n",
      "2035_2 2035_2_advspeech_ssim_only_1.wav\n",
      "2078_1 2078_1_advspeech_ssim_only_0.wav\n",
      "2078_1 2078_1_advspeech_ssim_only_1.wav\n",
      "2078_2 2078_2_advspeech_ssim_only_0.wav\n",
      "2078_2 2078_2_advspeech_ssim_only_1.wav\n",
      "2086_1 2086_1_advspeech_ssim_only_0.wav\n",
      "2086_1 2086_1_advspeech_ssim_only_1.wav\n",
      "2086_2 2086_2_advspeech_ssim_only_0.wav\n",
      "2086_2 2086_2_advspeech_ssim_only_1.wav\n",
      "2277_1 2277_1_advspeech_ssim_only_0.wav\n",
      "2277_1 2277_1_advspeech_ssim_only_1.wav\n",
      "2277_2 2277_2_advspeech_ssim_only_0.wav\n",
      "2277_2 2277_2_advspeech_ssim_only_1.wav\n",
      "2412_1 2412_1_advspeech_ssim_only_0.wav\n",
      "2412_1 2412_1_advspeech_ssim_only_1.wav\n",
      "2412_2 2412_2_advspeech_ssim_only_0.wav\n",
      "2412_2 2412_2_advspeech_ssim_only_1.wav\n",
      "2428_1 2428_1_advspeech_ssim_only_0.wav\n",
      "2428_1 2428_1_advspeech_ssim_only_1.wav\n",
      "2428_2 2428_2_advspeech_ssim_only_0.wav\n",
      "2428_2 2428_2_advspeech_ssim_only_1.wav\n",
      "251_1 251_1_advspeech_ssim_only_0.wav\n",
      "251_1 251_1_advspeech_ssim_only_1.wav\n",
      "251_2 251_2_advspeech_ssim_only_0.wav\n",
      "251_2 251_2_advspeech_ssim_only_1.wav\n",
      "2803_1 2803_1_advspeech_ssim_only_0.wav\n",
      "2803_1 2803_1_advspeech_ssim_only_1.wav\n",
      "2803_2 2803_2_advspeech_ssim_only_0.wav\n",
      "2803_2 2803_2_advspeech_ssim_only_1.wav\n",
      "2902_1 2902_1_advspeech_ssim_only_0.wav\n",
      "2902_1 2902_1_advspeech_ssim_only_1.wav\n",
      "2902_2 2902_2_advspeech_ssim_only_0.wav\n",
      "2902_2 2902_2_advspeech_ssim_only_1.wav\n",
      "3000_1 3000_1_advspeech_ssim_only_0.wav\n",
      "3000_1 3000_1_advspeech_ssim_only_1.wav\n",
      "3000_2 3000_2_advspeech_ssim_only_0.wav\n",
      "3000_2 3000_2_advspeech_ssim_only_1.wav\n",
      "3170_1 3170_1_advspeech_ssim_only_0.wav\n",
      "3170_1 3170_1_advspeech_ssim_only_1.wav\n",
      "3170_2 3170_2_advspeech_ssim_only_0.wav\n",
      "3170_2 3170_2_advspeech_ssim_only_1.wav\n",
      "3536_1 3536_1_advspeech_ssim_only_0.wav\n",
      "3536_1 3536_1_advspeech_ssim_only_1.wav\n",
      "3536_2 3536_2_advspeech_ssim_only_0.wav\n",
      "3536_2 3536_2_advspeech_ssim_only_1.wav\n",
      "3576_1 3576_1_advspeech_ssim_only_0.wav\n",
      "3576_1 3576_1_advspeech_ssim_only_1.wav\n",
      "3576_2 3576_2_advspeech_ssim_only_0.wav\n",
      "3576_2 3576_2_advspeech_ssim_only_1.wav\n",
      "3752_1 3752_1_advspeech_ssim_only_0.wav\n",
      "3752_1 3752_1_advspeech_ssim_only_1.wav\n",
      "3752_2 3752_2_advspeech_ssim_only_0.wav\n",
      "3752_2 3752_2_advspeech_ssim_only_1.wav\n",
      "3853_1 3853_1_advspeech_ssim_only_0.wav\n",
      "3853_1 3853_1_advspeech_ssim_only_1.wav\n",
      "3853_2 3853_2_advspeech_ssim_only_0.wav\n",
      "3853_2 3853_2_advspeech_ssim_only_1.wav\n",
      "5338_1 5338_1_advspeech_ssim_only_0.wav\n",
      "5338_1 5338_1_advspeech_ssim_only_1.wav\n",
      "5338_2 5338_2_advspeech_ssim_only_0.wav\n",
      "5338_2 5338_2_advspeech_ssim_only_1.wav\n",
      "5536_1 5536_1_advspeech_ssim_only_0.wav\n",
      "5536_1 5536_1_advspeech_ssim_only_1.wav\n",
      "5536_2 5536_2_advspeech_ssim_only_0.wav\n",
      "5536_2 5536_2_advspeech_ssim_only_1.wav\n",
      "5694_1 5694_1_advspeech_ssim_only_0.wav\n",
      "5694_1 5694_1_advspeech_ssim_only_1.wav\n",
      "5694_2 5694_2_advspeech_ssim_only_0.wav\n",
      "5694_2 5694_2_advspeech_ssim_only_1.wav\n",
      "5895_1 5895_1_advspeech_ssim_only_0.wav\n",
      "5895_1 5895_1_advspeech_ssim_only_1.wav\n",
      "5895_2 5895_2_advspeech_ssim_only_0.wav\n",
      "5895_2 5895_2_advspeech_ssim_only_1.wav\n",
      "6241_1 6241_1_advspeech_ssim_only_0.wav\n",
      "6241_1 6241_1_advspeech_ssim_only_1.wav\n",
      "6241_2 6241_2_advspeech_ssim_only_0.wav\n",
      "6241_2 6241_2_advspeech_ssim_only_1.wav\n",
      "6295_1 6295_1_advspeech_ssim_only_0.wav\n",
      "6295_1 6295_1_advspeech_ssim_only_1.wav\n",
      "6295_2 6295_2_advspeech_ssim_only_0.wav\n",
      "6313_1 6313_1_advspeech_ssim_only_0.wav\n",
      "6313_2 6313_2_advspeech_ssim_only_0.wav\n",
      "6313_2 6313_2_advspeech_ssim_only_1.wav\n",
      "6319_1 6319_1_advspeech_ssim_only_0.wav\n",
      "6319_1 6319_1_advspeech_ssim_only_1.wav\n",
      "6319_2 6319_2_advspeech_ssim_only_0.wav\n",
      "6319_2 6319_2_advspeech_ssim_only_1.wav\n",
      "6345_1 6345_1_advspeech_ssim_only_0.wav\n",
      "6345_1 6345_1_advspeech_ssim_only_1.wav\n",
      "6345_2 6345_2_advspeech_ssim_only_0.wav\n",
      "6345_2 6345_2_advspeech_ssim_only_1.wav\n",
      "652_1 652_1_advspeech_ssim_only_0.wav\n",
      "652_1 652_1_advspeech_ssim_only_1.wav\n",
      "652_2 652_2_advspeech_ssim_only_0.wav\n",
      "652_2 652_2_advspeech_ssim_only_1.wav\n",
      "777_1 777_1_advspeech_ssim_only_0.wav\n",
      "777_1 777_1_advspeech_ssim_only_1.wav\n",
      "777_2 777_2_advspeech_ssim_only_0.wav\n",
      "777_2 777_2_advspeech_ssim_only_1.wav\n",
      "7850_1 7850_1_advspeech_ssim_only_0.wav\n",
      "7850_1 7850_1_advspeech_ssim_only_1.wav\n",
      "7850_2 7850_2_advspeech_ssim_only_0.wav\n",
      "7850_2 7850_2_advspeech_ssim_only_1.wav\n",
      "7976_1 7976_1_advspeech_ssim_only_0.wav\n",
      "7976_2 7976_2_advspeech_ssim_only_0.wav\n",
      "7976_2 7976_2_advspeech_ssim_only_1.wav\n",
      "8297_1 8297_1_advspeech_ssim_only_0.wav\n",
      "8297_1 8297_1_advspeech_ssim_only_1.wav\n",
      "8297_2 8297_2_advspeech_ssim_only_0.wav\n",
      "8297_2 8297_2_advspeech_ssim_only_1.wav\n",
      "84_1 84_1_advspeech_ssim_only_0.wav\n",
      "84_1 84_1_advspeech_ssim_only_1.wav\n",
      "84_2 84_2_advspeech_ssim_only_0.wav\n",
      "84_2 84_2_advspeech_ssim_only_1.wav\n",
      "8842_1 8842_1_advspeech_ssim_only_0.wav\n",
      "8842_1 8842_1_advspeech_ssim_only_1.wav\n",
      "8842_2 8842_2_advspeech_ssim_only_0.wav\n",
      "8842_2 8842_2_advspeech_ssim_only_1.wav\n",
      "tensor(18.2288) tensor(148)\n",
      "snr (tensor(18.2288), tensor(3.0466))\n",
      "pesq (tensor(1.6849), tensor(0.3109))\n",
      "secs (tensor(0.1261), tensor(0.0766))\n"
     ]
    }
   ],
   "source": [
    "snr_metric = SNRMetric()\n",
    "pesq_metric = PESQMetric()\n",
    "secs_metric = SECSMetric()\n",
    "\n",
    "folder = \"./sampled_pair\"\n",
    "\n",
    "speakers = [f for f in os.listdir(folder) if os.path.isdir(os.path.join(folder, f))]\n",
    "\n",
    "for speaker in speakers:\n",
    "    for i in range(1, 3):\n",
    "        prefix = f\"{speaker}_{i}\"\n",
    "        original = load_wav(f\"{folder}/{speaker}/{prefix}.wav\", target_sr=16000)\n",
    "        for subfile in os.listdir(f\"{folder}/{speaker}\"):\n",
    "            if subfile.startswith(prefix) and \"advspeech_ssim_only\" in subfile:\n",
    "                advspeech = load_wav(f\"{folder}/{speaker}/{subfile}\", target_sr=16000)\n",
    "                original = original[: , :advspeech.size(1)]\n",
    "                advspeech = advspeech[:, : original.size(1)]\n",
    "                snr_metric.update(original, advspeech)\n",
    "                pesq_metric.update(original, advspeech)\n",
    "                secs_metric.update(original, advspeech)\n",
    "                print(prefix, subfile)\n",
    "                \n",
    "print(\"snr\", snr_metric.compute())\n",
    "print(\"pesq\", pesq_metric.compute())\n",
    "print(\"secs\", secs_metric.compute())\n",
    "        \n"
   ],
   "metadata": {
    "collapsed": false,
    "ExecuteTime": {
     "end_time": "2025-01-08T17:12:33.981652100Z",
     "start_time": "2025-01-08T17:11:55.384539700Z"
    }
   },
   "id": "89752b1e163cd6b1",
   "execution_count": 4
  },
  {
   "cell_type": "code",
   "outputs": [
    {
     "name": "stdout",
     "output_type": "stream",
     "text": [
      "mos_pred_mean 2.8318524998095302\n",
      "mos_pred_std 0.6538042911371987\n"
     ]
    }
   ],
   "source": [
    "mos_data = pd.read_csv(\"./results/NISQA_results_advspeech.csv\")\n",
    "\n",
    "mos_data_advspeech = mos_data[mos_data[\"deg\"].str.contains(\"advspeech\")]\n",
    "\n",
    "mos_pred_mean = np.mean(mos_data_advspeech[\"mos_pred\"])\n",
    "mos_pred_std_dev = np.std(mos_data_advspeech[\"mos_pred\"])\n",
    "\n",
    "print(\"mos_pred_mean\", mos_pred_mean)\n",
    "print(\"mos_pred_std\", mos_pred_std_dev)"
   ],
   "metadata": {
    "collapsed": false,
    "ExecuteTime": {
     "end_time": "2025-01-02T16:41:41.679059400Z",
     "start_time": "2025-01-02T16:41:41.626680200Z"
    }
   },
   "id": "4479311bc2f2123b",
   "execution_count": 16
  },
  {
   "cell_type": "code",
   "outputs": [],
   "source": [
    "folder = \"./sampled_pair\"\n",
    "speakers = [f for f in os.listdir(folder) if os.path.isdir(os.path.join(folder, f))]\n",
    "ref_dict = {}\n",
    "\n",
    "\n",
    "for speaker in speakers:\n",
    "    for i in range(1, 3):\n",
    "        prefix = f\"{speaker}_{i}\"\n",
    "        ref_dict[prefix] = f\"{folder}/{speaker}/{prefix}.wav\"\n",
    "        "
   ],
   "metadata": {
    "collapsed": false,
    "ExecuteTime": {
     "end_time": "2025-01-08T17:16:12.887096300Z",
     "start_time": "2025-01-08T17:16:12.843095300Z"
    }
   },
   "id": "35d89d33b3674940",
   "execution_count": 5
  },
  {
   "cell_type": "code",
   "outputs": [
    {
     "name": "stderr",
     "output_type": "stream",
     "text": [
      "WARNING:root:unexpected tensor: projection.weight\n"
     ]
    }
   ],
   "source": [
    "import wespeaker\n",
    "model = wespeaker.load_model('english')\n",
    "model.set_device('cuda:0')"
   ],
   "metadata": {
    "collapsed": false,
    "ExecuteTime": {
     "end_time": "2025-01-08T17:16:19.685160100Z",
     "start_time": "2025-01-08T17:16:16.014803300Z"
    }
   },
   "id": "61fabd3b42b64894",
   "execution_count": 6
  },
  {
   "cell_type": "code",
   "outputs": [],
   "source": [
    "def wespeaker_similarity(input_folder, mode):\n",
    "    res = []\n",
    "    \n",
    "    for filename in os.listdir(f'{input_folder}/{mode}'):\n",
    "        mode_index = filename.find(mode)\n",
    "        prefix = filename[:mode_index-1]\n",
    "        \n",
    "        original = ref_dict[prefix]\n",
    "        synthesized = f'{input_folder}/{mode}/{filename}'\n",
    "        score = model.compute_similarity(original , synthesized)\n",
    "        res.append(score)\n",
    "    return res\n",
    "\n"
   ],
   "metadata": {
    "collapsed": false,
    "ExecuteTime": {
     "end_time": "2025-01-08T17:39:19.771878300Z",
     "start_time": "2025-01-08T17:39:19.768848900Z"
    }
   },
   "id": "b2c28ec88bb94165",
   "execution_count": 8
  },
  {
   "cell_type": "code",
   "outputs": [],
   "source": [
    "synthesizer = f\"/mnt/d/voicedata/Libri_adv/cosyvoice\"\n",
    "advspeech_similarity = wespeaker_similarity(synthesizer, 'advspeech_ssim_only')"
   ],
   "metadata": {
    "collapsed": false,
    "ExecuteTime": {
     "end_time": "2025-01-08T17:40:45.416966400Z",
     "start_time": "2025-01-08T17:39:21.749889100Z"
    }
   },
   "id": "e0d3fbf4d488c96b",
   "execution_count": 9
  },
  {
   "cell_type": "code",
   "outputs": [
    {
     "name": "stdout",
     "output_type": "stream",
     "text": [
      "advspeech:  0.7281295326492279 0.075281447141619\n"
     ]
    }
   ],
   "source": [
    "print(\"advspeech: \", np.mean(advspeech_similarity), np.std(advspeech_similarity))"
   ],
   "metadata": {
    "collapsed": false,
    "ExecuteTime": {
     "end_time": "2025-01-08T17:41:44.386232400Z",
     "start_time": "2025-01-08T17:41:44.375233900Z"
    }
   },
   "id": "c34b89f86d4ab82f",
   "execution_count": 10
  },
  {
   "cell_type": "code",
   "outputs": [
    {
     "name": "stdout",
     "output_type": "stream",
     "text": [
      "xTTS\n",
      "original:  0.7996861952307978 0.04479642958655396\n",
      "antifake:  0.5950886263944037 0.05735854769547628\n",
      "advspeech:  0.6781693687856508 0.06247269280783284\n",
      "openvoice\n",
      "original:  0.6655337025264376 0.050913048547118755\n",
      "antifake:  0.5826841509735555 0.05337649647797942\n",
      "advspeech:  0.6107569044947417 0.04768445836260454\n",
      "cosyvoice\n",
      "original:  0.8987942161528688 0.025214177964369214\n",
      "antifake:  0.6729299951387618 0.07127123018407143\n",
      "advspeech:  0.7351352721931713 0.07062878341272188\n"
     ]
    }
   ],
   "source": [
    "for syn in ['xTTS', 'openvoice', 'cosyvoice']:\n",
    "    synthesizer = f\"/mnt/d/voicedata/Libri_adv/{syn}\"\n",
    "\n",
    "    original_similarity = wespeaker_similarity(synthesizer, 'ffmpeg')\n",
    "    antifake_similarity = wespeaker_similarity(synthesizer, 'antifake')\n",
    "    advspeech_similarity = wespeaker_similarity(synthesizer, 'advspeech')\n",
    "    print(syn)\n",
    "    print(\"original: \", np.mean(original_similarity), np.std(original_similarity))\n",
    "    print(\"antifake: \", np.mean(antifake_similarity), np.std(antifake_similarity))\n",
    "    print(\"advspeech: \", np.mean(advspeech_similarity), np.std(advspeech_similarity))"
   ],
   "metadata": {
    "collapsed": false,
    "ExecuteTime": {
     "end_time": "2025-01-04T22:16:56.000302400Z",
     "start_time": "2025-01-04T22:15:42.053235100Z"
    }
   },
   "id": "fc2ee613799ba9fd",
   "execution_count": 44
  },
  {
   "cell_type": "code",
   "outputs": [
    {
     "name": "stdout",
     "output_type": "stream",
     "text": [
      "original:  0.7996861952307978 0.04479642958655396\n",
      "antifake:  0.5950886263944037 0.05735854769547628\n",
      "advspeech:  0.6781693687856508 0.06247269280783284\n"
     ]
    }
   ],
   "source": [],
   "metadata": {
    "collapsed": false,
    "ExecuteTime": {
     "end_time": "2025-01-03T22:11:10.320011800Z",
     "start_time": "2025-01-03T22:11:10.269278200Z"
    }
   },
   "id": "d059c3682c583a87",
   "execution_count": 42
  }
 ],
 "metadata": {
  "kernelspec": {
   "display_name": "Python 3",
   "language": "python",
   "name": "python3"
  },
  "language_info": {
   "codemirror_mode": {
    "name": "ipython",
    "version": 2
   },
   "file_extension": ".py",
   "mimetype": "text/x-python",
   "name": "python",
   "nbconvert_exporter": "python",
   "pygments_lexer": "ipython2",
   "version": "2.7.6"
  }
 },
 "nbformat": 4,
 "nbformat_minor": 5
}
