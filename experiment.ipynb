{
 "cells": [
  {
   "cell_type": "code",
   "execution_count": null,
   "id": "initial_id",
   "metadata": {
    "collapsed": true
   },
   "outputs": [],
   "source": [
    "from Metrics.FidelityMetrics import SNRMetric, PESQMetric, SECSMetric\n",
    "import os\n",
    "from util import *\n",
    "import pandas as pd"
   ]
  },
  {
   "cell_type": "code",
   "outputs": [],
   "source": [
    "snr_metric = SNRMetric()\n",
    "pesq_metric = PESQMetric()\n",
    "secs_metric = SECSMetric()"
   ],
   "metadata": {
    "collapsed": false
   },
   "id": "79a47810f05b5d65",
   "execution_count": null
  },
  {
   "cell_type": "code",
   "outputs": [],
   "source": [
    "folder = \"/mnt/d/repo/AntiFake/antifake\""
   ],
   "metadata": {
    "collapsed": false
   },
   "id": "80066d12d6277120",
   "execution_count": null
  },
  {
   "cell_type": "code",
   "outputs": [],
   "source": [
    "subfiles = [f for f in os.listdir(folder) if f.endswith(\".wav\")]\n",
    "\n",
    "original = [f for f in subfiles if \"ffmpeg\" in f]\n",
    "antifake = [f for f in subfiles if \"antifake\" in f]\n",
    "def normalize_name(filename):\n",
    "    return filename.replace(\"ffmpeg\", \"\").replace(\"antifake\", \"\")\n",
    "original_dict = {normalize_name(f): f for f in original}\n",
    "antifake_dict = {normalize_name(f): f for f in antifake}\n",
    "\n",
    "paired_files = [(original_dict[name], antifake_dict[name]) \n",
    "                for name in original_dict.keys() \n",
    "                if name in antifake_dict]\n",
    "\n",
    "assert len(paired_files) == len(original_dict) == len(antifake_dict) == 76"
   ],
   "metadata": {
    "collapsed": false
   },
   "id": "2a882577c010295c",
   "execution_count": null
  },
  {
   "cell_type": "code",
   "outputs": [],
   "source": [
    "for original, antifake in paired_files:\n",
    "    original = load_wav(folder + \"/\" + original, target_sr=16000)\n",
    "    distorted = load_wav(folder + \"/\" + antifake, target_sr=16000)\n",
    "    original = original[: , :distorted.size(1)]\n",
    "    distorted = distorted[:, : original.size(1)]\n",
    "    snr_metric.update(original, distorted)\n",
    "    pesq_metric.update(original, distorted)\n",
    "    secs_metric.update(original, distorted)\n",
    "    \n",
    "print(\"snr\", snr_metric.compute())\n",
    "print(\"pesq\", pesq_metric.compute())\n",
    "print(\"secs\", secs_metric.compute())"
   ],
   "metadata": {
    "collapsed": false
   },
   "id": "dd92281ac13fdd13",
   "execution_count": null
  },
  {
   "cell_type": "code",
   "outputs": [],
   "source": [
    "mos_data = pd.read_csv(\"./results/NISQA_results.csv\")\n",
    "\n",
    "\n",
    "mos_data_antifake = mos_data[mos_data[\"deg\"].str.contains(\"antifake\")]\n",
    "\n",
    "mos_pred_mean = np.mean(mos_data_antifake[\"mos_pred\"])\n",
    "mos_pred_std_dev = np.std(mos_data_antifake[\"mos_pred\"])\n",
    "\n",
    "print(\"mos_pred_mean\", mos_pred_mean)\n",
    "print(\"mos_pred_std\", mos_pred_std_dev)"
   ],
   "metadata": {
    "collapsed": false
   },
   "id": "5d5a1a9d4217aa20",
   "execution_count": null
  },
  {
   "cell_type": "code",
   "outputs": [],
   "source": [
    "snr_metric = SNRMetric()\n",
    "pesq_metric = PESQMetric()\n",
    "secs_metric = SECSMetric()\n",
    "\n",
    "folder = \"./sampled_pair\"\n",
    "\n",
    "speakers = [f for f in os.listdir(folder) if os.path.isdir(os.path.join(folder, f))]\n",
    "\n",
    "for speaker in speakers:\n",
    "    for i in range(1, 3):\n",
    "        prefix = f\"{speaker}_{i}\"\n",
    "        original = load_wav(f\"{folder}/{speaker}/{prefix}.wav\", target_sr=16000)\n",
    "        for subfile in os.listdir(f\"{folder}/{speaker}\"):\n",
    "            if subfile.startswith(prefix) and \"advspeech_ssim_only\" in subfile:\n",
    "                advspeech = load_wav(f\"{folder}/{speaker}/{subfile}\", target_sr=16000)\n",
    "                original = original[: , :advspeech.size(1)]\n",
    "                advspeech = advspeech[:, : original.size(1)]\n",
    "                snr_metric.update(original, advspeech)\n",
    "                pesq_metric.update(original, advspeech)\n",
    "                secs_metric.update(original, advspeech)\n",
    "                print(prefix, subfile)\n",
    "                \n",
    "print(\"snr\", snr_metric.compute())\n",
    "print(\"pesq\", pesq_metric.compute())\n",
    "print(\"secs\", secs_metric.compute())\n",
    "        \n"
   ],
   "metadata": {
    "collapsed": false
   },
   "id": "89752b1e163cd6b1",
   "execution_count": null
  },
  {
   "cell_type": "code",
   "outputs": [],
   "source": [
    "mos_data = pd.read_csv(\"./results/NISQA_results_advspeech.csv\")\n",
    "\n",
    "mos_data_advspeech = mos_data[mos_data[\"deg\"].str.contains(\"advspeech\")]\n",
    "\n",
    "mos_pred_mean = np.mean(mos_data_advspeech[\"mos_pred\"])\n",
    "mos_pred_std_dev = np.std(mos_data_advspeech[\"mos_pred\"])\n",
    "\n",
    "print(\"mos_pred_mean\", mos_pred_mean)\n",
    "print(\"mos_pred_std\", mos_pred_std_dev)"
   ],
   "metadata": {
    "collapsed": false
   },
   "id": "4479311bc2f2123b",
   "execution_count": null
  },
  {
   "cell_type": "code",
   "outputs": [],
   "source": [
    "folder = \"./sampled_pair\"\n",
    "speakers = [f for f in os.listdir(folder) if os.path.isdir(os.path.join(folder, f))]\n",
    "ref_dict = {}\n",
    "\n",
    "\n",
    "for speaker in speakers:\n",
    "    for i in range(1, 3):\n",
    "        prefix = f\"{speaker}_{i}\"\n",
    "        ref_dict[prefix] = f\"{folder}/{speaker}/{prefix}.wav\"\n",
    "        "
   ],
   "metadata": {
    "collapsed": false
   },
   "id": "35d89d33b3674940",
   "execution_count": null
  },
  {
   "cell_type": "code",
   "outputs": [],
   "source": [
    "import wespeaker\n",
    "model = wespeaker.load_model('english')\n",
    "model.set_device('cuda:0')"
   ],
   "metadata": {
    "collapsed": false
   },
   "id": "61fabd3b42b64894",
   "execution_count": null
  },
  {
   "cell_type": "code",
   "outputs": [],
   "source": [
    "def wespeaker_similarity(input_folder, mode):\n",
    "    res = []\n",
    "    \n",
    "    for filename in os.listdir(f'{input_folder}/{mode}'):\n",
    "        mode_index = filename.find(mode)\n",
    "        prefix = filename[:mode_index-1]\n",
    "        \n",
    "        original = ref_dict[prefix]\n",
    "        synthesized = f'{input_folder}/{mode}/{filename}'\n",
    "        score = model.compute_similarity(original , synthesized)\n",
    "        res.append(score)\n",
    "    return res\n",
    "\n"
   ],
   "metadata": {
    "collapsed": false
   },
   "id": "b2c28ec88bb94165",
   "execution_count": null
  },
  {
   "cell_type": "code",
   "outputs": [],
   "source": [
    "synthesizer = f\"/mnt/d/voicedata/Libri_adv/cosyvoice\"\n",
    "advspeech_similarity = wespeaker_similarity(synthesizer, 'advspeech') "
   ],
   "metadata": {
    "collapsed": false,
    "ExecuteTime": {
     "end_time": "2025-01-10T09:59:32.110645200Z",
     "start_time": "2025-01-10T09:59:00.516896400Z"
    }
   },
   "id": "e0d3fbf4d488c96b",
   "execution_count": 30
  },
  {
   "cell_type": "code",
   "outputs": [
    {
     "name": "stdout",
     "output_type": "stream",
     "text": [
      "threshold 0.6063705906271935\n"
     ]
    }
   ],
   "source": [
    "advspeech_similarity = sorted(advspeech_similarity, reverse=True)\n",
    "index = int(len(advspeech_similarity) * 0.95)\n",
    "threshold = advspeech_similarity[index]\n",
    "print(\"threshold\", threshold)"
   ],
   "metadata": {
    "collapsed": false,
    "ExecuteTime": {
     "end_time": "2025-01-10T10:03:46.736493300Z",
     "start_time": "2025-01-10T10:03:46.728984400Z"
    }
   },
   "id": "912c35911e4e223d",
   "execution_count": 36
  },
  {
   "cell_type": "code",
   "outputs": [],
   "source": [],
   "metadata": {
    "collapsed": false
   },
   "id": "594abc2be59f28ff"
  },
  {
   "cell_type": "code",
   "outputs": [],
   "source": [
    "print(\"advspeech: \", np.mean(advspeech_similarity), np.std(advspeech_similarity))"
   ],
   "metadata": {
    "collapsed": false
   },
   "id": "c34b89f86d4ab82f",
   "execution_count": null
  },
  {
   "cell_type": "code",
   "outputs": [
    {
     "name": "stdout",
     "output_type": "stream",
     "text": [
      "synthesizer xTTS threshold 0.703551784157753\n",
      "antifake 0.02631578947368421\n",
      "advspeech 0.3888888888888889\n",
      "synthesizer openvoice threshold 0.5727239400148392\n",
      "antifake 0.5526315789473685\n",
      "advspeech 0.7638888888888888\n",
      "synthesizer cosyvoice threshold 0.8517224490642548\n",
      "antifake 0.0\n",
      "advspeech 0.006944444444444444\n"
     ]
    }
   ],
   "source": [
    "for syn in ['xTTS', 'openvoice', 'cosyvoice']:\n",
    "    synthesizer = f\"/mnt/d/voicedata/Libri_adv/{syn}\"\n",
    "\n",
    "    original_similarity = wespeaker_similarity(synthesizer, 'ffmpeg')\n",
    "    original_similarity = sorted(original_similarity, reverse=True)\n",
    "    index = int(len(original_similarity) * 0.95)\n",
    "    threshold = original_similarity[index]\n",
    "    print(\"synthesizer\", syn, \"threshold\", threshold)\n",
    "    \n",
    "    antifake_similarity = wespeaker_similarity(synthesizer, 'antifake')\n",
    "    advspeech_similarity = wespeaker_similarity(synthesizer, 'advspeech')\n",
    "    \n",
    "    antifake_accepted = sum([1 for score in antifake_similarity if score > threshold])\n",
    "    advspeech_accepted = sum([1 for score in advspeech_similarity if score > threshold])\n",
    "    print(\"antifake\", antifake_accepted / len(antifake_similarity))\n",
    "    print(\"advspeech\", advspeech_accepted / len(advspeech_similarity))"
   ],
   "metadata": {
    "collapsed": false,
    "ExecuteTime": {
     "end_time": "2025-01-10T10:06:58.251311400Z",
     "start_time": "2025-01-10T10:04:43.352939Z"
    }
   },
   "id": "fc2ee613799ba9fd",
   "execution_count": 38
  },
  {
   "cell_type": "code",
   "outputs": [],
   "source": [],
   "metadata": {
    "collapsed": false
   },
   "id": "6678694017f3f143"
  }
 ],
 "metadata": {
  "kernelspec": {
   "display_name": "Python 3",
   "language": "python",
   "name": "python3"
  },
  "language_info": {
   "codemirror_mode": {
    "name": "ipython",
    "version": 2
   },
   "file_extension": ".py",
   "mimetype": "text/x-python",
   "name": "python",
   "nbconvert_exporter": "python",
   "pygments_lexer": "ipython2",
   "version": "2.7.6"
  }
 },
 "nbformat": 4,
 "nbformat_minor": 5
}
