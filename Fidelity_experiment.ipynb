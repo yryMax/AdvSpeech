{
 "cells": [
  {
   "cell_type": "code",
   "execution_count": 1,
   "id": "initial_id",
   "metadata": {
    "collapsed": true,
    "ExecuteTime": {
     "end_time": "2025-01-02T09:46:08.799247800Z",
     "start_time": "2025-01-02T09:46:07.170010300Z"
    }
   },
   "outputs": [],
   "source": [
    "from Metrics.FidelityMetrics import SNRMetric, PESQMetric, SECSMetric\n",
    "import os\n",
    "from util import *"
   ]
  },
  {
   "cell_type": "code",
   "outputs": [
    {
     "name": "stdout",
     "output_type": "stream",
     "text": [
      "Loaded the voice encoder model on cuda in 1.71 seconds.\n"
     ]
    }
   ],
   "source": [
    "snr_metric = SNRMetric()\n",
    "pesq_metric = PESQMetric()\n",
    "secs_metric = SECSMetric()"
   ],
   "metadata": {
    "collapsed": false,
    "ExecuteTime": {
     "end_time": "2025-01-02T09:46:10.617788700Z",
     "start_time": "2025-01-02T09:46:08.799247800Z"
    }
   },
   "id": "79a47810f05b5d65",
   "execution_count": 2
  },
  {
   "cell_type": "code",
   "outputs": [],
   "source": [
    "folder = \"/mnt/d/repo/AntiFake/antifake\""
   ],
   "metadata": {
    "collapsed": false,
    "ExecuteTime": {
     "end_time": "2025-01-02T09:46:10.624809200Z",
     "start_time": "2025-01-02T09:46:10.617788700Z"
    }
   },
   "id": "80066d12d6277120",
   "execution_count": 3
  },
  {
   "cell_type": "code",
   "outputs": [],
   "source": [
    "subfiles = [f for f in os.listdir(folder) if f.endswith(\".wav\")]\n",
    "\n",
    "original = [f for f in subfiles if \"ffmpeg\" in f]\n",
    "antifake = [f for f in subfiles if \"antifake\" in f]\n",
    "def normalize_name(filename):\n",
    "    return filename.replace(\"ffmpeg\", \"\").replace(\"antifake\", \"\")\n",
    "original_dict = {normalize_name(f): f for f in original}\n",
    "antifake_dict = {normalize_name(f): f for f in antifake}\n",
    "\n",
    "paired_files = [(original_dict[name], antifake_dict[name]) \n",
    "                for name in original_dict.keys() \n",
    "                if name in antifake_dict]\n",
    "\n",
    "assert len(paired_files) == len(original_dict) == len(antifake_dict) == 76"
   ],
   "metadata": {
    "collapsed": false,
    "ExecuteTime": {
     "end_time": "2025-01-02T09:46:10.710543800Z",
     "start_time": "2025-01-02T09:46:10.621893100Z"
    }
   },
   "id": "2a882577c010295c",
   "execution_count": 4
  },
  {
   "cell_type": "code",
   "outputs": [
    {
     "name": "stdout",
     "output_type": "stream",
     "text": [
      "tensor(14.0513) tensor(228)\n",
      "snr (tensor(14.0513), tensor(3.4403))\n",
      "pesq (tensor(1.3316), tensor(0.2905))\n",
      "secs (tensor(0.4164), tensor(0.0789))\n"
     ]
    }
   ],
   "source": [
    "for original, antifake in paired_files:\n",
    "    original = load_wav(folder + \"/\" + original, target_sr=16000)\n",
    "    distorted = load_wav(folder + \"/\" + antifake, target_sr=16000)\n",
    "    original = original[: , :distorted.size(1)]\n",
    "    distorted = distorted[:, : original.size(1)]\n",
    "    snr_metric.update(original, distorted)\n",
    "    pesq_metric.update(original, distorted)\n",
    "    secs_metric.update(original, distorted)\n",
    "    \n",
    "print(\"snr\", snr_metric.compute())\n",
    "print(\"pesq\", pesq_metric.compute())\n",
    "print(\"secs\", secs_metric.compute())"
   ],
   "metadata": {
    "collapsed": false,
    "ExecuteTime": {
     "end_time": "2025-01-02T09:49:52.499039500Z",
     "start_time": "2025-01-02T09:49:36.336517900Z"
    }
   },
   "id": "dd92281ac13fdd13",
   "execution_count": 7
  },
  {
   "cell_type": "code",
   "outputs": [],
   "source": [],
   "metadata": {
    "collapsed": false,
    "ExecuteTime": {
     "end_time": "2025-01-02T09:46:39.381642100Z",
     "start_time": "2025-01-02T09:46:39.370005600Z"
    }
   },
   "id": "5d5a1a9d4217aa20",
   "execution_count": 5
  }
 ],
 "metadata": {
  "kernelspec": {
   "display_name": "Python 3",
   "language": "python",
   "name": "python3"
  },
  "language_info": {
   "codemirror_mode": {
    "name": "ipython",
    "version": 2
   },
   "file_extension": ".py",
   "mimetype": "text/x-python",
   "name": "python",
   "nbconvert_exporter": "python",
   "pygments_lexer": "ipython2",
   "version": "2.7.6"
  }
 },
 "nbformat": 4,
 "nbformat_minor": 5
}
