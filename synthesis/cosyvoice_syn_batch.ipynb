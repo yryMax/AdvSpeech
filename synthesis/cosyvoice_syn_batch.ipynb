{
 "cells": [
  {
   "cell_type": "code",
   "execution_count": 19,
   "id": "initial_id",
   "metadata": {
    "collapsed": true,
    "ExecuteTime": {
     "end_time": "2025-01-03T23:27:17.741922500Z",
     "start_time": "2025-01-03T23:27:17.733910400Z"
    }
   },
   "outputs": [],
   "source": [
    "from cosyvoice.cli.cosyvoice import CosyVoice\n",
    "from cosyvoice.utils.file_utils import load_wav\n",
    "import torchaudio\n",
    "import os"
   ]
  },
  {
   "cell_type": "code",
   "outputs": [
    {
     "name": "stderr",
     "output_type": "stream",
     "text": [
      "/home/renyi/anaconda3/envs/cosyvoice2/lib/python3.8/site-packages/diffusers/models/lora.py:393: FutureWarning: `LoRACompatibleLinear` is deprecated and will be removed in version 1.0.0. Use of `LoRACompatibleLinear` is deprecated. Please switch to PEFT backend by installing PEFT: `pip install peft`.\n",
      "  deprecate(\"LoRACompatibleLinear\", \"1.0.0\", deprecation_message)\n",
      "2025-01-03 23:49:06,425 INFO input frame rate=50\n",
      "/home/renyi/anaconda3/envs/cosyvoice2/lib/python3.8/site-packages/onnxruntime/capi/onnxruntime_inference_collection.py:69: UserWarning: Specified provider 'CUDAExecutionProvider' is not in available provider names.Available providers: 'AzureExecutionProvider, CPUExecutionProvider'\n",
      "  warnings.warn(\n",
      "2025-01-03 23:49:10,882 WETEXT INFO found existing fst: /home/renyi/anaconda3/envs/cosyvoice2/lib/python3.8/site-packages/tn/zh_tn_tagger.fst\n",
      "2025-01-03 23:49:10,882 INFO found existing fst: /home/renyi/anaconda3/envs/cosyvoice2/lib/python3.8/site-packages/tn/zh_tn_tagger.fst\n",
      "2025-01-03 23:49:10,884 WETEXT INFO                     /home/renyi/anaconda3/envs/cosyvoice2/lib/python3.8/site-packages/tn/zh_tn_verbalizer.fst\n",
      "2025-01-03 23:49:10,884 INFO                     /home/renyi/anaconda3/envs/cosyvoice2/lib/python3.8/site-packages/tn/zh_tn_verbalizer.fst\n",
      "2025-01-03 23:49:10,885 WETEXT INFO skip building fst for zh_normalizer ...\n",
      "2025-01-03 23:49:10,885 INFO skip building fst for zh_normalizer ...\n",
      "2025-01-03 23:49:11,150 WETEXT INFO found existing fst: /home/renyi/anaconda3/envs/cosyvoice2/lib/python3.8/site-packages/tn/en_tn_tagger.fst\n",
      "2025-01-03 23:49:11,150 INFO found existing fst: /home/renyi/anaconda3/envs/cosyvoice2/lib/python3.8/site-packages/tn/en_tn_tagger.fst\n",
      "2025-01-03 23:49:11,151 WETEXT INFO                     /home/renyi/anaconda3/envs/cosyvoice2/lib/python3.8/site-packages/tn/en_tn_verbalizer.fst\n",
      "2025-01-03 23:49:11,151 INFO                     /home/renyi/anaconda3/envs/cosyvoice2/lib/python3.8/site-packages/tn/en_tn_verbalizer.fst\n",
      "2025-01-03 23:49:11,152 WETEXT INFO skip building fst for en_normalizer ...\n",
      "2025-01-03 23:49:11,152 INFO skip building fst for en_normalizer ...\n"
     ]
    }
   ],
   "source": [
    "cosyvoice = CosyVoice('pretrained_models/CosyVoice-300M')"
   ],
   "metadata": {
    "collapsed": false,
    "ExecuteTime": {
     "end_time": "2025-01-03T22:49:31.029609Z",
     "start_time": "2025-01-03T22:49:00.636734800Z"
    }
   },
   "id": "a8b92494a955b129",
   "execution_count": 17
  },
  {
   "cell_type": "code",
   "outputs": [
    {
     "name": "stdout",
     "output_type": "stream",
     "text": [
      "Sententiae: Artis: First Principles of Art for Painters and Picture Lovers.\n",
      "Except that something was wrong and it was like walking through warm glue.\n",
      "I told myself that if I were really thinking of you, and not of myself, a letter would be better than nothing.\n",
      "\"Of course I know, Bartley,\" she said at last, \"that after this you won't owe me the least consideration.\n",
      "At these blasphemous sounds, the pillars of the sanctuary were shaken.\n",
      "The death of Theophilus expanded and realized the hopes of his nephew.\n",
      "Nevertheless she was not all my life, nor the form of all my life.\n",
      "This being the only window in the house, no neighbors' glances were to be feared from across the way or at the side.\n",
      "Now wash them well in fresh water, and dress as usual with pepper, vinegar, and oil.\n",
      "Beat the yolks of the other two eggs; add them, with a little flour and salt, to those pounded; mix all well together, and roll into balls.\n",
      "There is one sort of ignorance which originates in extreme publicity.\n",
      "She was not old, but she was certainly not young.\n",
      "The cold was not severe, but the storm was quiet and resistless.\n",
      "They sat about the house most of the day as if it were Sunday; greasing their boots, mending their suspenders, plaiting whiplashes.\n",
      "WHILE the autumn color was growing pale on the grass and cornfields, things went badly with our friends the Russians.\n",
      "Nothing could be more natural than such an assembly in such a place, at such a period.\n",
      "In three quarters hour look at it, and should it have swollen very much, and begin to crack, it will be light enough to bake.\n",
      "They should be kept in a closed tin canister in a dry place, to preserve their crispness.\n",
      "On returning into Hepzibah's apartment of the house, she found the low studded parlor so dim and dusky that her eyes could not penetrate the interior.\n",
      "\"Well, I don't wish to see it any more,\" observed Phoebe, turning away her eyes.\n",
      "Then she walked and sang to it, until Hanson, disturbed in his reading, came and took it.\n",
      "One of the galling incidents of this visit was that he came back on a Randolph Street car, and without noticing arrived almost opposite the building of the concern with which his son was connected.\n",
      "I was dazzled as I saw one after the other, of whom I could only feel that each was the loveliest I had ever seen.\n",
      "Then I had much pleasure in reading it, but was indeed surprised at the many little points of similarity between the two books, in spite of their entire independence to one another.\n",
      "Mary Ann was silent for some time; then she quietly remarked:\n",
      "There appeared to be no knocker, though whether it had been \"twisted\" off was more than I could say.\n",
      "'I do not know if you are a man or a demon, Khemsa,' he said at last. 'Few of us are what we seem.\n",
      "He was young; no spear had touched him, no poison lurked in his wine.\n",
      "Where chance led them, but at any rate they were free.\n",
      "But do you imagine that sensible children, after one such discovery, would rest satisfied?\n",
      "Here is the precious document-do look at it, in pity.\n",
      "But there is my father, pacing up and down in the library.'\n",
      "The long gray slopes leading up to the glacier seem remarkably smooth and unbroken.\n",
      "During the Glacial Period it was a mer de glace, then a lake, and now a level meadow shining with bountiful springs and streams.\n",
      "They were in despair; they had enquired about the accident from the gondoliers, and having been told that I knew more than they did, they loaded me with questions which I answered.\n",
      "A few minutes afterwards he asked me to rub his left arm, which, he said, was so benumbed that he could not feel it.\n",
      "\"He's disturbed in his mind,--quite 'orrid,\" Bozzle said when he got back to his wife.\n",
      "\"It's love for her as has done it then,\" said Bozzle, shaking his head.\n",
      "\"Well then, away with you all,\" said Roque, \"and bring them here to me at once without letting one of them escape.\"\n",
      "Give me my horse and arms, and wait for me here; I will go in quest of this knight, and dead or alive I will make him keep his word plighted to so great beauty.\"\n",
      "Kirkland belonged to a Methodist family and owned a piety utterly out of place in that region.\n",
      "\"Captain Burgess, Macklewain tells me you are going to flog Kirkland.\"\n",
      "Christie was going to town to see the regiment off, and soon followed with mr Power.\n",
      "Letty smiled at him approvingly, then went to comfort her mother who could not recover her tranquillity so soon.\n",
      "Did you suppose a palace would be like one of our handsome residences?\" asked the woman, evidently surprised.\n",
      "\"You are not like my people, the Pinkies, and there is no place for you in our country.\"\n",
      "It has been said that the position of woman is the test of civilization, and that of our women was secure.\n",
      "The first is pure spirit, concerned only with the essence of things, and it was this he sought to strengthen by spiritual prayer, during which the body is subdued by fasting and hardship.\n",
      "We jumped over the fence, and commenced grabbling for the sweet potatoes.\n",
      "He said to us, \"Give 'em goss, boys. That's right, my brave First Tennessee.\n",
      "He was removed from sadness as is pole from pole. Spleen at the one; Gwynplaine at the other.\n",
      "Such a face could never have been created by chance; it must have resulted from intention.\n",
      "If there is such a thing as love at first sight, it sprang into existence the moment john Newsome's eyes fell upon this lovely princess.\n",
      "From that moment the schooner was steered to the westward in order to round Cape Reykjanes, the western point of Iceland.\n",
      "When he reached the suburbs, the light of homes was shining through curtains of all colors.\n",
      "It cried aloud that eternity was very long, and like a great palace without a quiet room.\n",
      "Stacy Brown proved the only grumbler in the lot, declaring that he could not sleep a wink on such a bed as that.\n",
      "The boss said the first man he heard using language while you tenderfeet were with us, would get fired on the spot.\"\n",
      "She runs along and climbs about, just as the whim takes her.\n",
      "My young plants require heat, or they would not live; and the pots we are kept in protect us from those cruel wire worms who delight to destroy our roots.\"\n",
      "Oh, cold creatures, ye are not what ye seem, and I will none of you!\"\n",
      "She would have shared his sorrow, and shown herself \"half wife, half angel from heaven\" in this dark hour.\n",
      "Lacrima Christi Spumanti: The finest Italian champagne.\n",
      "Chateau Lafitte: Has beautiful color and delicate flavor.\n",
      "The story was enough, too, to make one's blood boil.\n",
      "And Mr Ossipon brings every week a pile of these f p tracts to sell at a halfpenny each.\n",
      "Some of them were lazy and stupid and envious of Mother Magpie's cosy nest, which was already finished, while theirs was yet to do.\n",
      "A person would think that, after a family had lived so long in a place, all the neighbors would be fond of them, yet it is not so.\n",
      "\"I do not trust your promises,\" replied the little maid.\n",
      "Suddenly we heard something, almost like a distant whirlwind.\n",
      "\"She's not Catherine, at any rate; I, for one, shall go home with a lighter heart.\" He took his brother's arm, to return to the other platform.\n",
      "\"Where he is every day, about this time-out driving with Catherine and Kitty.\"\n",
      "As the doctors entered the street, they saw a man in a cassock standing on the threshold of the next door.\n",
      "When forcibly my sight was turned away Towards my left hand by those goddesses, Because I heard from them a \"Too intently!\"\n",
      "And as I was going that way by chance, (but I think rather by the will of fortune,) I heard one of them call unto me, and she that called was a lady of very sweet speech.\n",
      "Then, when I say, \"Dear Song, I know,\" I add a stanza as it were handmaid to the others, wherein I say what I desire from this my poem.\n"
     ]
    }
   ],
   "source": [
    "targettext = \"Though wise men at their end know dark is right, Because their words had forked no lightning they Do not go gentle into that good night.\"\n",
    "\n",
    "folder = \"/mnt/d/voicedata/Libri_adv/sampled_pair\"\n",
    "speakers = [f for f in os.listdir(folder) if os.path.isdir(os.path.join(folder, f))]\n",
    "ref_dict = {}\n",
    "\n",
    "for speaker in speakers:\n",
    "    for i in range(1, 3):\n",
    "        prefix = f\"{speaker}_{i}\"\n",
    "        reftext =  f\"{folder}/{speaker}/{prefix}.normalized.txt\"\n",
    "        ref_dict[prefix] = open(reftext, \"r\").readline().strip()\n"
   ],
   "metadata": {
    "collapsed": false,
    "ExecuteTime": {
     "end_time": "2025-01-03T23:33:02.813670Z",
     "start_time": "2025-01-03T23:33:02.423188200Z"
    }
   },
   "id": "318549d6afbeabfd",
   "execution_count": 21
  },
  {
   "cell_type": "code",
   "outputs": [],
   "source": [
    "def syn(prompt_path, output_path, reftext, targettext):\n",
    "    prompt_sr = 16000\n",
    "    prompt_speech_16k = load_wav(prompt_path, prompt_sr)\n",
    "\n",
    "    output = cosyvoice.inference_zero_shot(targettext, reftext, prompt_speech_16k, stream=False, speed=1)\n",
    "    for j, k in enumerate(output):\n",
    "        torchaudio.save(output_path, k['tts_speech'], 22050)"
   ],
   "metadata": {
    "collapsed": false,
    "ExecuteTime": {
     "end_time": "2025-01-03T23:55:39.604210300Z",
     "start_time": "2025-01-03T23:55:39.595363400Z"
    }
   },
   "id": "852f8718df71e458",
   "execution_count": 23
  },
  {
   "cell_type": "code",
   "outputs": [],
   "source": [
    "def synthesize(input_folder, output_folder, mode):\n",
    "\n",
    "    os.makedirs(os.path.join(output_folder, mode), exist_ok=True)\n",
    "\n",
    "    for root, dirs, files in os.walk(input_folder):\n",
    "        for file in files:\n",
    "            tokens = file.split(\"_\")\n",
    "            prefix = f\"{tokens[0]}_{tokens[1]}\"\n",
    "            if mode in file:\n",
    "                current_file = os.path.join(root, file)\n",
    "                target_file = os.path.join(output_folder, mode, file.replace(\".wav\", \"_cosyvoice.wav\"))\n",
    "                syn(current_file, target_file, ref_dict[prefix], targettext)\n"
   ],
   "metadata": {
    "collapsed": false,
    "ExecuteTime": {
     "end_time": "2025-01-03T23:56:43.499971800Z",
     "start_time": "2025-01-03T23:56:43.494474800Z"
    }
   },
   "id": "316932ffd990636b",
   "execution_count": 24
  },
  {
   "cell_type": "code",
   "outputs": [
    {
     "name": "stderr",
     "output_type": "stream",
     "text": [
      "  0%|          | 0/1 [00:00<?, ?it/s]2025-01-04 00:57:34,793 INFO synthesis text Though wise men at their end know dark is right, Because their words had forked no lightning they Do not go gentle into that good night.\n",
      "2025-01-04 00:57:50,479 INFO yield speech len 7.859954648526077, rtf 1.9956291663533343\n",
      "100%|██████████| 1/1 [00:22<00:00, 22.03s/it]\n",
      "  0%|          | 0/1 [00:00<?, ?it/s]2025-01-04 00:57:54,234 INFO synthesis text Though wise men at their end know dark is right, Because their words had forked no lightning they Do not go gentle into that good night.\n",
      "2025-01-04 00:58:05,593 INFO yield speech len 7.9760544217687075, rtf 1.4241477049578095\n",
      "100%|██████████| 1/1 [00:14<00:00, 14.96s/it]\n",
      "  0%|          | 0/1 [00:00<?, ?it/s]2025-01-04 00:58:10,738 INFO synthesis text Though wise men at their end know dark is right, Because their words had forked no lightning they Do not go gentle into that good night.\n",
      "2025-01-04 00:58:17,122 INFO yield speech len 8.034104308390022, rtf 0.794646552443569\n",
      "100%|██████████| 1/1 [00:11<00:00, 11.42s/it]\n",
      "  0%|          | 0/1 [00:00<?, ?it/s]2025-01-04 00:58:22,531 INFO synthesis text Though wise men at their end know dark is right, Because their words had forked no lightning they Do not go gentle into that good night.\n",
      "2025-01-04 00:58:30,222 INFO yield speech len 9.810430839002267, rtf 0.7839224364652613\n",
      "100%|██████████| 1/1 [00:12<00:00, 12.96s/it]\n",
      "  0%|          | 0/1 [00:00<?, ?it/s]2025-01-04 00:58:33,516 INFO synthesis text Though wise men at their end know dark is right, Because their words had forked no lightning they Do not go gentle into that good night.\n",
      "2025-01-04 00:58:38,559 INFO yield speech len 7.174965986394557, rtf 0.7027801906111316\n",
      "100%|██████████| 1/1 [00:08<00:00,  8.22s/it]\n",
      "  0%|          | 0/1 [00:00<?, ?it/s]2025-01-04 00:58:41,854 INFO synthesis text Though wise men at their end know dark is right, Because their words had forked no lightning they Do not go gentle into that good night.\n",
      "2025-01-04 00:58:47,356 INFO yield speech len 7.75546485260771, rtf 0.7094748696022316\n",
      "100%|██████████| 1/1 [00:08<00:00,  8.72s/it]\n",
      "  0%|          | 0/1 [00:00<?, ?it/s]2025-01-04 00:58:51,692 INFO synthesis text Though wise men at their end know dark is right, Because their words had forked no lightning they Do not go gentle into that good night.\n",
      "2025-01-04 00:58:57,469 INFO yield speech len 7.859954648526077, rtf 0.734947285885913\n",
      "100%|██████████| 1/1 [00:10<00:00, 10.02s/it]\n",
      "  0%|          | 0/1 [00:00<?, ?it/s]2025-01-04 00:59:03,516 INFO synthesis text Though wise men at their end know dark is right, Because their words had forked no lightning they Do not go gentle into that good night.\n",
      "2025-01-04 00:59:09,507 INFO yield speech len 7.7090249433106575, rtf 0.7771190555334226\n",
      "100%|██████████| 1/1 [00:11<00:00, 11.91s/it]\n",
      "  0%|          | 0/1 [00:00<?, ?it/s]2025-01-04 00:59:13,803 INFO synthesis text Though wise men at their end know dark is right, Because their words had forked no lightning they Do not go gentle into that good night.\n",
      "2025-01-04 00:59:19,857 INFO yield speech len 8.649433106575964, rtf 0.6999293155968189\n",
      "100%|██████████| 1/1 [00:10<00:00, 10.25s/it]\n",
      "  0%|          | 0/1 [00:00<?, ?it/s]2025-01-04 00:59:27,670 INFO synthesis text Though wise men at their end know dark is right, Because their words had forked no lightning they Do not go gentle into that good night.\n",
      "2025-01-04 00:59:36,120 INFO yield speech len 8.695873015873016, rtf 0.9717749248946382\n",
      "100%|██████████| 1/1 [00:16<00:00, 16.19s/it]\n",
      "  0%|          | 0/1 [00:00<?, ?it/s]2025-01-04 00:59:39,442 INFO synthesis text Though wise men at their end know dark is right, Because their words had forked no lightning they Do not go gentle into that good night.\n",
      "2025-01-04 00:59:45,095 INFO yield speech len 7.592925170068027, rtf 0.744596787369511\n",
      "100%|██████████| 1/1 [00:08<00:00,  8.86s/it]\n",
      "  0%|          | 0/1 [00:00<?, ?it/s]2025-01-04 00:59:48,008 INFO synthesis text Though wise men at their end know dark is right, Because their words had forked no lightning they Do not go gentle into that good night.\n",
      "2025-01-04 00:59:53,302 INFO yield speech len 7.732244897959184, rtf 0.6847003455953421\n",
      "100%|██████████| 1/1 [00:08<00:00,  8.14s/it]\n",
      "  0%|          | 0/1 [00:00<?, ?it/s]"
     ]
    }
   ],
   "source": [
    "input_folder = \"/mnt/d/voicedata/Libri_adv/antifake\"\n",
    "output_folder = \"/mnt/d/voicedata/Libri_adv/cosyvoice\"\n",
    "mode = \"antifake\"\n",
    "synthesize(input_folder, output_folder, mode)"
   ],
   "metadata": {
    "collapsed": false,
    "is_executing": true,
    "ExecuteTime": {
     "start_time": "2025-01-03T23:57:27.933115700Z"
    }
   },
   "id": "26d9edc93c7d8ce1"
  }
 ],
 "metadata": {
  "kernelspec": {
   "display_name": "Python 3",
   "language": "python",
   "name": "python3"
  },
  "language_info": {
   "codemirror_mode": {
    "name": "ipython",
    "version": 2
   },
   "file_extension": ".py",
   "mimetype": "text/x-python",
   "name": "python",
   "nbconvert_exporter": "python",
   "pygments_lexer": "ipython2",
   "version": "2.7.6"
  }
 },
 "nbformat": 4,
 "nbformat_minor": 5
}
