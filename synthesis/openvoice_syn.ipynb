{
 "cells": [
  {
   "cell_type": "code",
   "execution_count": 1,
   "id": "initial_id",
   "metadata": {
    "collapsed": true,
    "ExecuteTime": {
     "end_time": "2025-01-04T19:48:03.158036Z",
     "start_time": "2025-01-04T19:47:57.821102500Z"
    }
   },
   "outputs": [
    {
     "name": "stdout",
     "output_type": "stream",
     "text": [
      "Importing the dtw module. When using in academic works please cite:\n",
      "  T. Giorgino. Computing and Visualizing Dynamic Time Warping Alignments in R: The dtw Package.\n",
      "  J. Stat. Soft., doi:10.18637/jss.v031.i07.\n"
     ]
    }
   ],
   "source": [
    "import os\n",
    "import torch\n",
    "from openvoice import se_extractor\n",
    "from openvoice.api import BaseSpeakerTTS, ToneColorConverter"
   ]
  },
  {
   "cell_type": "code",
   "outputs": [
    {
     "name": "stderr",
     "output_type": "stream",
     "text": [
      "/home/renyi/anaconda3/envs/openvoice/lib/python3.9/site-packages/torch/nn/utils/weight_norm.py:143: FutureWarning: `torch.nn.utils.weight_norm` is deprecated in favor of `torch.nn.utils.parametrizations.weight_norm`.\n",
      "  WeightNorm.apply(module, name, dim)\n",
      "/mnt/d/repo/OpenVoice/openvoice/api.py:36: FutureWarning: You are using `torch.load` with `weights_only=False` (the current default value), which uses the default pickle module implicitly. It is possible to construct malicious pickle data which will execute arbitrary code during unpickling (See https://github.com/pytorch/pytorch/blob/main/SECURITY.md#untrusted-models for more details). In a future release, the default value for `weights_only` will be flipped to `True`. This limits the functions that could be executed during unpickling. Arbitrary objects will no longer be allowed to be loaded via this mode unless they are explicitly allowlisted by the user via `torch.serialization.add_safe_globals`. We recommend you start setting `weights_only=True` for any use case where you don't have full control of the loaded file. Please open an issue on GitHub for any issues related to this experimental feature.\n",
      "  checkpoint_dict = torch.load(ckpt_path, map_location=torch.device(self.device))\n"
     ]
    },
    {
     "name": "stdout",
     "output_type": "stream",
     "text": [
      "Loaded checkpoint 'checkpoints/base_speakers/EN/checkpoint.pth'\n",
      "missing/unexpected keys: [] []\n"
     ]
    },
    {
     "name": "stderr",
     "output_type": "stream",
     "text": [
      "/home/renyi/anaconda3/envs/openvoice/lib/python3.9/site-packages/wavmark/__init__.py:16: FutureWarning: You are using `torch.load` with `weights_only=False` (the current default value), which uses the default pickle module implicitly. It is possible to construct malicious pickle data which will execute arbitrary code during unpickling (See https://github.com/pytorch/pytorch/blob/main/SECURITY.md#untrusted-models for more details). In a future release, the default value for `weights_only` will be flipped to `True`. This limits the functions that could be executed during unpickling. Arbitrary objects will no longer be allowed to be loaded via this mode unless they are explicitly allowlisted by the user via `torch.serialization.add_safe_globals`. We recommend you start setting `weights_only=True` for any use case where you don't have full control of the loaded file. Please open an issue on GitHub for any issues related to this experimental feature.\n",
      "  checkpoint = torch.load(resume_path, map_location=torch.device('cpu'))\n"
     ]
    },
    {
     "name": "stdout",
     "output_type": "stream",
     "text": [
      "Loaded checkpoint 'checkpoints/converter/checkpoint.pth'\n",
      "missing/unexpected keys: [] []\n"
     ]
    }
   ],
   "source": [
    "ckpt_base = 'checkpoints/base_speakers/EN'\n",
    "ckpt_converter = 'checkpoints/converter'\n",
    "device=\"cuda:0\" if torch.cuda.is_available() else \"cpu\"\n",
    "output_dir = 'outputs'\n",
    "\n",
    "base_speaker_tts = BaseSpeakerTTS(f'{ckpt_base}/config.json', device=device)\n",
    "base_speaker_tts.load_ckpt(f'{ckpt_base}/checkpoint.pth')\n",
    "\n",
    "tone_color_converter = ToneColorConverter(f'{ckpt_converter}/config.json', device=device)\n",
    "tone_color_converter.load_ckpt(f'{ckpt_converter}/checkpoint.pth')\n",
    "\n",
    "os.makedirs(output_dir, exist_ok=True)"
   ],
   "metadata": {
    "collapsed": false,
    "ExecuteTime": {
     "end_time": "2025-01-04T19:48:10.364945Z",
     "start_time": "2025-01-04T19:48:05.181159600Z"
    }
   },
   "id": "525c9814c4ee4cc9",
   "execution_count": 2
  },
  {
   "cell_type": "code",
   "outputs": [
    {
     "name": "stderr",
     "output_type": "stream",
     "text": [
      "/tmp/ipykernel_2164794/1020549311.py:1: FutureWarning: You are using `torch.load` with `weights_only=False` (the current default value), which uses the default pickle module implicitly. It is possible to construct malicious pickle data which will execute arbitrary code during unpickling (See https://github.com/pytorch/pytorch/blob/main/SECURITY.md#untrusted-models for more details). In a future release, the default value for `weights_only` will be flipped to `True`. This limits the functions that could be executed during unpickling. Arbitrary objects will no longer be allowed to be loaded via this mode unless they are explicitly allowlisted by the user via `torch.serialization.add_safe_globals`. We recommend you start setting `weights_only=True` for any use case where you don't have full control of the loaded file. Please open an issue on GitHub for any issues related to this experimental feature.\n",
      "  source_se = torch.load(f'{ckpt_base}/en_default_se.pth').to(device)\n"
     ]
    }
   ],
   "source": [
    "source_se = torch.load(f'{ckpt_base}/en_default_se.pth').to(device)"
   ],
   "metadata": {
    "collapsed": false,
    "ExecuteTime": {
     "end_time": "2025-01-04T19:48:10.379566600Z",
     "start_time": "2025-01-04T19:48:10.362944400Z"
    }
   },
   "id": "e99919830e8463a",
   "execution_count": 3
  },
  {
   "cell_type": "code",
   "outputs": [],
   "source": [],
   "metadata": {
    "collapsed": false,
    "ExecuteTime": {
     "end_time": "2025-01-04T19:48:10.379566600Z",
     "start_time": "2025-01-04T19:48:10.374189Z"
    }
   },
   "id": "7db3415251773fd1",
   "execution_count": 3
  },
  {
   "cell_type": "code",
   "outputs": [],
   "source": [
    "def openvoice_syn(reference_speaker, output_dir, texts):\n",
    "    \n",
    "    target_se, audio_name = se_extractor.get_se(reference_speaker, tone_color_converter, target_dir='processed', vad=True)\n",
    "    src_path = f'./tmp.wav'\n",
    "    base_speaker_tts.tts(texts, None, speaker='default', language='English', speed=1.0)\n",
    "\n",
    "    encode_message = \"@MyShell\"\n",
    "    tone_color_converter.convert(\n",
    "    audio_src_path=src_path, \n",
    "    src_se=source_se, \n",
    "    tgt_se=target_se, \n",
    "    output_path=output_dir,\n",
    "    message=encode_message)\n"
   ],
   "metadata": {
    "collapsed": false,
    "ExecuteTime": {
     "end_time": "2025-01-04T19:48:10.387241200Z",
     "start_time": "2025-01-04T19:48:10.376190700Z"
    }
   },
   "id": "d682c68439d998c2",
   "execution_count": 4
  },
  {
   "cell_type": "code",
   "outputs": [],
   "source": [
    "text = \"Though wise men at their end know dark is right, Because their words had forked no lightning they Do not go gentle into that good night.\""
   ],
   "metadata": {
    "collapsed": false,
    "ExecuteTime": {
     "end_time": "2025-01-04T19:48:10.426166600Z",
     "start_time": "2025-01-04T19:48:10.382276200Z"
    }
   },
   "id": "90599e19745b1600",
   "execution_count": 5
  },
  {
   "cell_type": "code",
   "outputs": [],
   "source": [
    "def synthesize(input_folder, output_folder, mode):\n",
    "    # open a subdir named \"mode\"\n",
    "    os.makedirs(os.path.join(output_folder, mode), exist_ok=True)\n",
    "    \n",
    "    # read all files in the input folder recursively\n",
    "    for root, dirs, files in os.walk(input_folder):\n",
    "        for file in files:\n",
    "            if mode in file:\n",
    "                print(f\"Processing {file}\")\n",
    "                current_file = os.path.join(root, file)\n",
    "                target_file = os.path.join(output_folder, mode, file.replace(\".wav\", \"_openvoice.wav\"))\n",
    "                openvoice_syn(current_file, target_file, text)"
   ],
   "metadata": {
    "collapsed": false,
    "ExecuteTime": {
     "end_time": "2025-01-04T19:48:10.426675800Z",
     "start_time": "2025-01-04T19:48:10.398121400Z"
    }
   },
   "id": "f919d4f36931eb6c",
   "execution_count": 6
  },
  {
   "cell_type": "code",
   "outputs": [
    {
     "name": "stdout",
     "output_type": "stream",
     "text": [
      "Processing 1272_1_advspeech_0.wav\n",
      "OpenVoice version: v1\n",
      "[(0.0, 5.5100625)]\n",
      "after vad: dur = 5.51\n",
      " > Text splitted to sentences.\n",
      "Though wise men at their end know dark is right, Because their words had forked no lightning they Do not go gentle into that good night.\n",
      " > ===========================\n",
      "ðoʊ waɪz mɛn æt ðɛɹ ɛnd noʊ dɑɹk ɪz ɹaɪt, bɪˈkəz ðɛɹ wəɹdz hæd fɔɹkt noʊ ˈlaɪtnɪŋ ðeɪ du nɑt goʊ ˈdʒɛnəɫ ˈɪntu ðət gʊd naɪt.\n",
      " length:124\n",
      " length:124\n",
      "Processing 1272_2_advspeech_0.wav\n",
      "OpenVoice version: v1\n",
      "[(0.0, 4.2300625)]\n",
      "after vad: dur = 4.23\n",
      " > Text splitted to sentences.\n",
      "Though wise men at their end know dark is right, Because their words had forked no lightning they Do not go gentle into that good night.\n",
      " > ===========================\n",
      "ðoʊ waɪz mɛn æt ðɛɹ ɛnd noʊ dɑɹk ɪz ɹaɪt, bɪˈkəz ðɛɹ wəɹdz hæd fɔɹkt noʊ ˈlaɪtnɪŋ ðeɪ du nɑt goʊ ˈdʒɛnəɫ ˈɪntu ðət gʊd naɪt.\n",
      " length:124\n",
      " length:124\n",
      "Processing 1462_1_advspeech_0.wav\n",
      "OpenVoice version: v1\n",
      "[(0.0, 5.82)]\n",
      "after vad: dur = 5.82\n",
      " > Text splitted to sentences.\n",
      "Though wise men at their end know dark is right, Because their words had forked no lightning they Do not go gentle into that good night.\n",
      " > ===========================\n",
      "ðoʊ waɪz mɛn æt ðɛɹ ɛnd noʊ dɑɹk ɪz ɹaɪt, bɪˈkəz ðɛɹ wəɹdz hæd fɔɹkt noʊ ˈlaɪtnɪŋ ðeɪ du nɑt goʊ ˈdʒɛnəɫ ˈɪntu ðət gʊd naɪt.\n",
      " length:124\n",
      " length:124\n",
      "Processing 1462_2_advspeech_0.wav\n",
      "OpenVoice version: v1\n",
      "[(0.0, 6.06)]\n",
      "after vad: dur = 6.06\n",
      " > Text splitted to sentences.\n",
      "Though wise men at their end know dark is right, Because their words had forked no lightning they Do not go gentle into that good night.\n",
      " > ===========================\n",
      "ðoʊ waɪz mɛn æt ðɛɹ ɛnd noʊ dɑɹk ɪz ɹaɪt, bɪˈkəz ðɛɹ wəɹdz hæd fɔɹkt noʊ ˈlaɪtnɪŋ ðeɪ du nɑt goʊ ˈdʒɛnəɫ ˈɪntu ðət gʊd naɪt.\n",
      " length:124\n",
      " length:124\n",
      "Processing 1462_2_advspeech_1.wav\n",
      "OpenVoice version: v1\n",
      "[(0.0, 6.06)]\n",
      "after vad: dur = 6.06\n",
      " > Text splitted to sentences.\n",
      "Though wise men at their end know dark is right, Because their words had forked no lightning they Do not go gentle into that good night.\n",
      " > ===========================\n",
      "ðoʊ waɪz mɛn æt ðɛɹ ɛnd noʊ dɑɹk ɪz ɹaɪt, bɪˈkəz ðɛɹ wəɹdz hæd fɔɹkt noʊ ˈlaɪtnɪŋ ðeɪ du nɑt goʊ ˈdʒɛnəɫ ˈɪntu ðət gʊd naɪt.\n",
      " length:124\n",
      " length:124\n",
      "Processing 1673_1_advspeech_0.wav\n",
      "OpenVoice version: v1\n",
      "[(0.0, 3.6500625)]\n",
      "after vad: dur = 3.65\n",
      " > Text splitted to sentences.\n",
      "Though wise men at their end know dark is right, Because their words had forked no lightning they Do not go gentle into that good night.\n",
      " > ===========================\n",
      "ðoʊ waɪz mɛn æt ðɛɹ ɛnd noʊ dɑɹk ɪz ɹaɪt, bɪˈkəz ðɛɹ wəɹdz hæd fɔɹkt noʊ ˈlaɪtnɪŋ ðeɪ du nɑt goʊ ˈdʒɛnəɫ ˈɪntu ðət gʊd naɪt.\n",
      " length:124\n",
      " length:124\n",
      "Processing 1673_1_advspeech_1.wav\n",
      "OpenVoice version: v1\n",
      "[(0.0, 3.6500625)]\n",
      "after vad: dur = 3.65\n",
      " > Text splitted to sentences.\n",
      "Though wise men at their end know dark is right, Because their words had forked no lightning they Do not go gentle into that good night.\n",
      " > ===========================\n",
      "ðoʊ waɪz mɛn æt ðɛɹ ɛnd noʊ dɑɹk ɪz ɹaɪt, bɪˈkəz ðɛɹ wəɹdz hæd fɔɹkt noʊ ˈlaɪtnɪŋ ðeɪ du nɑt goʊ ˈdʒɛnəɫ ˈɪntu ðət gʊd naɪt.\n",
      " length:124\n",
      " length:124\n",
      "Processing 1673_2_advspeech_0.wav\n",
      "OpenVoice version: v1\n",
      "[(0.0, 3.850125)]\n",
      "after vad: dur = 3.85\n",
      " > Text splitted to sentences.\n",
      "Though wise men at their end know dark is right, Because their words had forked no lightning they Do not go gentle into that good night.\n",
      " > ===========================\n",
      "ðoʊ waɪz mɛn æt ðɛɹ ɛnd noʊ dɑɹk ɪz ɹaɪt, bɪˈkəz ðɛɹ wəɹdz hæd fɔɹkt noʊ ˈlaɪtnɪŋ ðeɪ du nɑt goʊ ˈdʒɛnəɫ ˈɪntu ðət gʊd naɪt.\n",
      " length:124\n",
      " length:124\n",
      "Processing 1673_2_advspeech_1.wav\n",
      "OpenVoice version: v1\n",
      "[(0.0, 3.850125)]\n",
      "after vad: dur = 3.85\n",
      " > Text splitted to sentences.\n",
      "Though wise men at their end know dark is right, Because their words had forked no lightning they Do not go gentle into that good night.\n",
      " > ===========================\n",
      "ðoʊ waɪz mɛn æt ðɛɹ ɛnd noʊ dɑɹk ɪz ɹaɪt, bɪˈkəz ðɛɹ wəɹdz hæd fɔɹkt noʊ ˈlaɪtnɪŋ ðeɪ du nɑt goʊ ˈdʒɛnəɫ ˈɪntu ðət gʊd naɪt.\n",
      " length:124\n",
      " length:124\n",
      "Processing 174_1_advspeech_0.wav\n",
      "OpenVoice version: v1\n",
      "[(0.0, 4.84)]\n",
      "after vad: dur = 4.84\n",
      " > Text splitted to sentences.\n",
      "Though wise men at their end know dark is right, Because their words had forked no lightning they Do not go gentle into that good night.\n",
      " > ===========================\n",
      "ðoʊ waɪz mɛn æt ðɛɹ ɛnd noʊ dɑɹk ɪz ɹaɪt, bɪˈkəz ðɛɹ wəɹdz hæd fɔɹkt noʊ ˈlaɪtnɪŋ ðeɪ du nɑt goʊ ˈdʒɛnəɫ ˈɪntu ðət gʊd naɪt.\n",
      " length:124\n",
      " length:124\n",
      "Processing 174_1_advspeech_1.wav\n",
      "OpenVoice version: v1\n",
      "[(0.0, 4.84)]\n",
      "after vad: dur = 4.84\n",
      " > Text splitted to sentences.\n",
      "Though wise men at their end know dark is right, Because their words had forked no lightning they Do not go gentle into that good night.\n",
      " > ===========================\n",
      "ðoʊ waɪz mɛn æt ðɛɹ ɛnd noʊ dɑɹk ɪz ɹaɪt, bɪˈkəz ðɛɹ wəɹdz hæd fɔɹkt noʊ ˈlaɪtnɪŋ ðeɪ du nɑt goʊ ˈdʒɛnəɫ ˈɪntu ðət gʊd naɪt.\n",
      " length:124\n",
      " length:124\n",
      "Processing 174_2_advspeech_0.wav\n",
      "OpenVoice version: v1\n",
      "[(0.0, 6.58)]\n",
      "after vad: dur = 6.58\n",
      " > Text splitted to sentences.\n",
      "Though wise men at their end know dark is right, Because their words had forked no lightning they Do not go gentle into that good night.\n",
      " > ===========================\n",
      "ðoʊ waɪz mɛn æt ðɛɹ ɛnd noʊ dɑɹk ɪz ɹaɪt, bɪˈkəz ðɛɹ wəɹdz hæd fɔɹkt noʊ ˈlaɪtnɪŋ ðeɪ du nɑt goʊ ˈdʒɛnəɫ ˈɪntu ðət gʊd naɪt.\n",
      " length:124\n",
      " length:124\n",
      "Processing 174_2_advspeech_1.wav\n",
      "OpenVoice version: v1\n",
      "[(0.0, 6.58)]\n",
      "after vad: dur = 6.58\n",
      " > Text splitted to sentences.\n",
      "Though wise men at their end know dark is right, Because their words had forked no lightning they Do not go gentle into that good night.\n",
      " > ===========================\n",
      "ðoʊ waɪz mɛn æt ðɛɹ ɛnd noʊ dɑɹk ɪz ɹaɪt, bɪˈkəz ðɛɹ wəɹdz hæd fɔɹkt noʊ ˈlaɪtnɪŋ ðeɪ du nɑt goʊ ˈdʒɛnəɫ ˈɪntu ðət gʊd naɪt.\n",
      " length:124\n",
      " length:124\n",
      "Processing 1919_1_advspeech_0.wav\n",
      "OpenVoice version: v1\n",
      "[(0.0, 4.88)]\n",
      "after vad: dur = 4.88\n",
      " > Text splitted to sentences.\n",
      "Though wise men at their end know dark is right, Because their words had forked no lightning they Do not go gentle into that good night.\n",
      " > ===========================\n",
      "ðoʊ waɪz mɛn æt ðɛɹ ɛnd noʊ dɑɹk ɪz ɹaɪt, bɪˈkəz ðɛɹ wəɹdz hæd fɔɹkt noʊ ˈlaɪtnɪŋ ðeɪ du nɑt goʊ ˈdʒɛnəɫ ˈɪntu ðət gʊd naɪt.\n",
      " length:124\n",
      " length:124\n",
      "Processing 1919_1_advspeech_1.wav\n",
      "OpenVoice version: v1\n",
      "[(0.0, 4.88)]\n",
      "after vad: dur = 4.88\n",
      " > Text splitted to sentences.\n",
      "Though wise men at their end know dark is right, Because their words had forked no lightning they Do not go gentle into that good night.\n",
      " > ===========================\n",
      "ðoʊ waɪz mɛn æt ðɛɹ ɛnd noʊ dɑɹk ɪz ɹaɪt, bɪˈkəz ðɛɹ wəɹdz hæd fɔɹkt noʊ ˈlaɪtnɪŋ ðeɪ du nɑt goʊ ˈdʒɛnəɫ ˈɪntu ðət gʊd naɪt.\n",
      " length:124\n",
      " length:124\n",
      "Processing 1919_2_advspeech_0.wav\n",
      "OpenVoice version: v1\n",
      "[(0.0, 9.06)]\n",
      "after vad: dur = 9.06\n",
      " > Text splitted to sentences.\n",
      "Though wise men at their end know dark is right, Because their words had forked no lightning they Do not go gentle into that good night.\n",
      " > ===========================\n",
      "ðoʊ waɪz mɛn æt ðɛɹ ɛnd noʊ dɑɹk ɪz ɹaɪt, bɪˈkəz ðɛɹ wəɹdz hæd fɔɹkt noʊ ˈlaɪtnɪŋ ðeɪ du nɑt goʊ ˈdʒɛnəɫ ˈɪntu ðət gʊd naɪt.\n",
      " length:124\n",
      " length:124\n",
      "Processing 1919_2_advspeech_1.wav\n",
      "OpenVoice version: v1\n",
      "[(0.0, 9.06)]\n",
      "after vad: dur = 9.06\n",
      " > Text splitted to sentences.\n",
      "Though wise men at their end know dark is right, Because their words had forked no lightning they Do not go gentle into that good night.\n",
      " > ===========================\n",
      "ðoʊ waɪz mɛn æt ðɛɹ ɛnd noʊ dɑɹk ɪz ɹaɪt, bɪˈkəz ðɛɹ wəɹdz hæd fɔɹkt noʊ ˈlaɪtnɪŋ ðeɪ du nɑt goʊ ˈdʒɛnəɫ ˈɪntu ðət gʊd naɪt.\n",
      " length:124\n",
      " length:124\n",
      "Processing 1988_1_advspeech_0.wav\n",
      "OpenVoice version: v1\n",
      "[(0.0, 3.66)]\n",
      "after vad: dur = 3.66\n",
      " > Text splitted to sentences.\n",
      "Though wise men at their end know dark is right, Because their words had forked no lightning they Do not go gentle into that good night.\n",
      " > ===========================\n",
      "ðoʊ waɪz mɛn æt ðɛɹ ɛnd noʊ dɑɹk ɪz ɹaɪt, bɪˈkəz ðɛɹ wəɹdz hæd fɔɹkt noʊ ˈlaɪtnɪŋ ðeɪ du nɑt goʊ ˈdʒɛnəɫ ˈɪntu ðət gʊd naɪt.\n",
      " length:124\n",
      " length:124\n",
      "Processing 1988_1_advspeech_1.wav\n",
      "OpenVoice version: v1\n",
      "[(0.0, 3.66)]\n",
      "after vad: dur = 3.66\n",
      " > Text splitted to sentences.\n",
      "Though wise men at their end know dark is right, Because their words had forked no lightning they Do not go gentle into that good night.\n",
      " > ===========================\n",
      "ðoʊ waɪz mɛn æt ðɛɹ ɛnd noʊ dɑɹk ɪz ɹaɪt, bɪˈkəz ðɛɹ wəɹdz hæd fɔɹkt noʊ ˈlaɪtnɪŋ ðeɪ du nɑt goʊ ˈdʒɛnəɫ ˈɪntu ðət gʊd naɪt.\n",
      " length:124\n",
      " length:124\n",
      "Processing 1988_2_advspeech_0.wav\n",
      "OpenVoice version: v1\n",
      "[(0.0, 3.42)]\n",
      "after vad: dur = 3.42\n",
      " > Text splitted to sentences.\n",
      "Though wise men at their end know dark is right, Because their words had forked no lightning they Do not go gentle into that good night.\n",
      " > ===========================\n",
      "ðoʊ waɪz mɛn æt ðɛɹ ɛnd noʊ dɑɹk ɪz ɹaɪt, bɪˈkəz ðɛɹ wəɹdz hæd fɔɹkt noʊ ˈlaɪtnɪŋ ðeɪ du nɑt goʊ ˈdʒɛnəɫ ˈɪntu ðət gʊd naɪt.\n",
      " length:124\n",
      " length:124\n",
      "Processing 1988_2_advspeech_1.wav\n",
      "OpenVoice version: v1\n",
      "[(0.0, 3.42)]\n",
      "after vad: dur = 3.42\n",
      " > Text splitted to sentences.\n",
      "Though wise men at their end know dark is right, Because their words had forked no lightning they Do not go gentle into that good night.\n",
      " > ===========================\n",
      "ðoʊ waɪz mɛn æt ðɛɹ ɛnd noʊ dɑɹk ɪz ɹaɪt, bɪˈkəz ðɛɹ wəɹdz hæd fɔɹkt noʊ ˈlaɪtnɪŋ ðeɪ du nɑt goʊ ˈdʒɛnəɫ ˈɪntu ðət gʊd naɪt.\n",
      " length:124\n",
      " length:124\n",
      "Processing 1993_1_advspeech_0.wav\n",
      "OpenVoice version: v1\n",
      "[(0.0, 4.14)]\n",
      "after vad: dur = 4.14\n",
      " > Text splitted to sentences.\n",
      "Though wise men at their end know dark is right, Because their words had forked no lightning they Do not go gentle into that good night.\n",
      " > ===========================\n",
      "ðoʊ waɪz mɛn æt ðɛɹ ɛnd noʊ dɑɹk ɪz ɹaɪt, bɪˈkəz ðɛɹ wəɹdz hæd fɔɹkt noʊ ˈlaɪtnɪŋ ðeɪ du nɑt goʊ ˈdʒɛnəɫ ˈɪntu ðət gʊd naɪt.\n",
      " length:124\n",
      " length:124\n",
      "Processing 1993_1_advspeech_1.wav\n",
      "OpenVoice version: v1\n",
      "[(0.0, 4.14)]\n",
      "after vad: dur = 4.14\n",
      " > Text splitted to sentences.\n",
      "Though wise men at their end know dark is right, Because their words had forked no lightning they Do not go gentle into that good night.\n",
      " > ===========================\n",
      "ðoʊ waɪz mɛn æt ðɛɹ ɛnd noʊ dɑɹk ɪz ɹaɪt, bɪˈkəz ðɛɹ wəɹdz hæd fɔɹkt noʊ ˈlaɪtnɪŋ ðeɪ du nɑt goʊ ˈdʒɛnəɫ ˈɪntu ðət gʊd naɪt.\n",
      " length:124\n",
      " length:124\n",
      "Processing 1993_2_advspeech_0.wav\n",
      "OpenVoice version: v1\n",
      "[(0.0, 7.72)]\n",
      "after vad: dur = 7.72\n",
      " > Text splitted to sentences.\n",
      "Though wise men at their end know dark is right, Because their words had forked no lightning they Do not go gentle into that good night.\n",
      " > ===========================\n",
      "ðoʊ waɪz mɛn æt ðɛɹ ɛnd noʊ dɑɹk ɪz ɹaɪt, bɪˈkəz ðɛɹ wəɹdz hæd fɔɹkt noʊ ˈlaɪtnɪŋ ðeɪ du nɑt goʊ ˈdʒɛnəɫ ˈɪntu ðət gʊd naɪt.\n",
      " length:124\n",
      " length:124\n",
      "Processing 2035_1_advspeech_0.wav\n",
      "OpenVoice version: v1\n",
      "[(0.0, 6.46)]\n",
      "after vad: dur = 6.46\n",
      " > Text splitted to sentences.\n",
      "Though wise men at their end know dark is right, Because their words had forked no lightning they Do not go gentle into that good night.\n",
      " > ===========================\n",
      "ðoʊ waɪz mɛn æt ðɛɹ ɛnd noʊ dɑɹk ɪz ɹaɪt, bɪˈkəz ðɛɹ wəɹdz hæd fɔɹkt noʊ ˈlaɪtnɪŋ ðeɪ du nɑt goʊ ˈdʒɛnəɫ ˈɪntu ðət gʊd naɪt.\n",
      " length:124\n",
      " length:124\n",
      "Processing 2035_1_advspeech_1.wav\n",
      "OpenVoice version: v1\n",
      "[(0.0, 6.46)]\n",
      "after vad: dur = 6.46\n",
      " > Text splitted to sentences.\n",
      "Though wise men at their end know dark is right, Because their words had forked no lightning they Do not go gentle into that good night.\n",
      " > ===========================\n",
      "ðoʊ waɪz mɛn æt ðɛɹ ɛnd noʊ dɑɹk ɪz ɹaɪt, bɪˈkəz ðɛɹ wəɹdz hæd fɔɹkt noʊ ˈlaɪtnɪŋ ðeɪ du nɑt goʊ ˈdʒɛnəɫ ˈɪntu ðət gʊd naɪt.\n",
      " length:124\n",
      " length:124\n",
      "Processing 2035_2_advspeech_0.wav\n",
      "OpenVoice version: v1\n",
      "[(0.0, 5.28)]\n",
      "after vad: dur = 5.28\n",
      " > Text splitted to sentences.\n",
      "Though wise men at their end know dark is right, Because their words had forked no lightning they Do not go gentle into that good night.\n",
      " > ===========================\n",
      "ðoʊ waɪz mɛn æt ðɛɹ ɛnd noʊ dɑɹk ɪz ɹaɪt, bɪˈkəz ðɛɹ wəɹdz hæd fɔɹkt noʊ ˈlaɪtnɪŋ ðeɪ du nɑt goʊ ˈdʒɛnəɫ ˈɪntu ðət gʊd naɪt.\n",
      " length:124\n",
      " length:124\n",
      "Processing 2035_2_advspeech_1.wav\n",
      "OpenVoice version: v1\n",
      "[(0.0, 5.28)]\n",
      "after vad: dur = 5.28\n",
      " > Text splitted to sentences.\n",
      "Though wise men at their end know dark is right, Because their words had forked no lightning they Do not go gentle into that good night.\n",
      " > ===========================\n",
      "ðoʊ waɪz mɛn æt ðɛɹ ɛnd noʊ dɑɹk ɪz ɹaɪt, bɪˈkəz ðɛɹ wəɹdz hæd fɔɹkt noʊ ˈlaɪtnɪŋ ðeɪ du nɑt goʊ ˈdʒɛnəɫ ˈɪntu ðət gʊd naɪt.\n",
      " length:124\n",
      " length:124\n",
      "Processing 2078_1_advspeech_0.wav\n",
      "OpenVoice version: v1\n",
      "[(0.0, 8.84)]\n",
      "after vad: dur = 8.84\n",
      " > Text splitted to sentences.\n",
      "Though wise men at their end know dark is right, Because their words had forked no lightning they Do not go gentle into that good night.\n",
      " > ===========================\n",
      "ðoʊ waɪz mɛn æt ðɛɹ ɛnd noʊ dɑɹk ɪz ɹaɪt, bɪˈkəz ðɛɹ wəɹdz hæd fɔɹkt noʊ ˈlaɪtnɪŋ ðeɪ du nɑt goʊ ˈdʒɛnəɫ ˈɪntu ðət gʊd naɪt.\n",
      " length:124\n",
      " length:124\n",
      "Processing 2078_1_advspeech_1.wav\n",
      "OpenVoice version: v1\n",
      "[(0.0, 8.84)]\n",
      "after vad: dur = 8.84\n",
      " > Text splitted to sentences.\n",
      "Though wise men at their end know dark is right, Because their words had forked no lightning they Do not go gentle into that good night.\n",
      " > ===========================\n",
      "ðoʊ waɪz mɛn æt ðɛɹ ɛnd noʊ dɑɹk ɪz ɹaɪt, bɪˈkəz ðɛɹ wəɹdz hæd fɔɹkt noʊ ˈlaɪtnɪŋ ðeɪ du nɑt goʊ ˈdʒɛnəɫ ˈɪntu ðət gʊd naɪt.\n",
      " length:124\n",
      " length:124\n",
      "Processing 2078_2_advspeech_0.wav\n",
      "OpenVoice version: v1\n"
     ]
    }
   ],
   "source": [
    "input_folder = \"/mnt/d/voicedata/Libri_adv/sampled_pair\"\n",
    "output_folder = \"/mnt/d/voicedata/Libri_adv/openvoice\"\n",
    "mode = \"advspeech\"\n",
    "synthesize(input_folder, output_folder, mode)"
   ],
   "metadata": {
    "collapsed": false,
    "is_executing": true,
    "ExecuteTime": {
     "start_time": "2025-01-04T19:51:51.610139200Z"
    }
   },
   "id": "9b2932723d257855",
   "execution_count": null
  },
  {
   "cell_type": "code",
   "outputs": [
    {
     "name": "stdout",
     "output_type": "stream",
     "text": [
      "OpenVoice version: v1\n",
      "[(0.0, 5.6)]\n",
      "after vad: dur = 5.6\n",
      " > Text splitted to sentences.\n",
      "Though wise men at their end know dark is right, Because their words had forked no lightning they Do not go gentle into that good night.\n",
      " > ===========================\n",
      "ðoʊ waɪz mɛn æt ðɛɹ ɛnd noʊ dɑɹk ɪz ɹaɪt, bɪˈkəz ðɛɹ wəɹdz hæd fɔɹkt noʊ ˈlaɪtnɪŋ ðeɪ du nɑt goʊ ˈdʒɛnəɫ ˈɪntu ðət gʊd naɪt.\n",
      " length:124\n",
      " length:124\n"
     ]
    }
   ],
   "source": [],
   "metadata": {
    "collapsed": false,
    "ExecuteTime": {
     "end_time": "2025-01-04T19:48:51.303535100Z",
     "start_time": "2025-01-04T19:48:50.816866100Z"
    }
   },
   "id": "4a7fc29e296a686b",
   "execution_count": 8
  },
  {
   "cell_type": "code",
   "outputs": [],
   "source": [],
   "metadata": {
    "collapsed": false,
    "ExecuteTime": {
     "end_time": "2025-01-04T19:48:51.357242700Z",
     "start_time": "2025-01-04T19:48:51.304535100Z"
    }
   },
   "id": "9df1b881074053ec",
   "execution_count": 8
  }
 ],
 "metadata": {
  "kernelspec": {
   "display_name": "Python 3",
   "language": "python",
   "name": "python3"
  },
  "language_info": {
   "codemirror_mode": {
    "name": "ipython",
    "version": 2
   },
   "file_extension": ".py",
   "mimetype": "text/x-python",
   "name": "python",
   "nbconvert_exporter": "python",
   "pygments_lexer": "ipython2",
   "version": "2.7.6"
  }
 },
 "nbformat": 4,
 "nbformat_minor": 5
}
