{
 "cells": [
  {
   "cell_type": "code",
   "execution_count": 10,
   "id": "initial_id",
   "metadata": {
    "collapsed": true,
    "ExecuteTime": {
     "end_time": "2025-04-29T09:03:42.300340600Z",
     "start_time": "2025-04-29T09:03:42.271619900Z"
    }
   },
   "outputs": [],
   "source": [
    "from demucs.pretrained import get_model\n",
    "from demucs.apply import apply_model\n",
    "import torchaudio\n",
    "from IPython.display import Audio"
   ]
  },
  {
   "cell_type": "code",
   "outputs": [
    {
     "ename": "ModelLoadingError",
     "evalue": "htdemucs_single is neither a single pre-trained model or a bag of models.",
     "output_type": "error",
     "traceback": [
      "\u001B[0;31m---------------------------------------------------------------------------\u001B[0m",
      "\u001B[0;31mKeyError\u001B[0m                                  Traceback (most recent call last)",
      "File \u001B[0;32m~/miniconda3/envs/advspeech/lib/python3.9/site-packages/demucs/repo.py:124\u001B[0m, in \u001B[0;36mBagOnlyRepo.get_model\u001B[0;34m(self, name)\u001B[0m\n\u001B[1;32m    123\u001B[0m \u001B[38;5;28;01mtry\u001B[39;00m:\n\u001B[0;32m--> 124\u001B[0m     yaml_file \u001B[38;5;241m=\u001B[39m \u001B[38;5;28;43mself\u001B[39;49m\u001B[38;5;241;43m.\u001B[39;49m\u001B[43m_bags\u001B[49m\u001B[43m[\u001B[49m\u001B[43mname\u001B[49m\u001B[43m]\u001B[49m\n\u001B[1;32m    125\u001B[0m \u001B[38;5;28;01mexcept\u001B[39;00m \u001B[38;5;167;01mKeyError\u001B[39;00m:\n",
      "\u001B[0;31mKeyError\u001B[0m: 'htdemucs_single'",
      "\nDuring handling of the above exception, another exception occurred:\n",
      "\u001B[0;31mModelLoadingError\u001B[0m                         Traceback (most recent call last)",
      "Cell \u001B[0;32mIn[15], line 1\u001B[0m\n\u001B[0;32m----> 1\u001B[0m denoising_model \u001B[38;5;241m=\u001B[39m \u001B[43mget_model\u001B[49m\u001B[43m(\u001B[49m\u001B[38;5;124;43m'\u001B[39;49m\u001B[38;5;124;43mhtdemucs_single\u001B[39;49m\u001B[38;5;124;43m'\u001B[39;49m\u001B[43m)\u001B[49m\n",
      "File \u001B[0;32m~/miniconda3/envs/advspeech/lib/python3.9/site-packages/demucs/pretrained.py:76\u001B[0m, in \u001B[0;36mget_model\u001B[0;34m(name, repo)\u001B[0m\n\u001B[1;32m     74\u001B[0m any_repo \u001B[38;5;241m=\u001B[39m AnyModelRepo(model_repo, bag_repo)\n\u001B[1;32m     75\u001B[0m \u001B[38;5;28;01mtry\u001B[39;00m:\n\u001B[0;32m---> 76\u001B[0m     model \u001B[38;5;241m=\u001B[39m \u001B[43many_repo\u001B[49m\u001B[38;5;241;43m.\u001B[39;49m\u001B[43mget_model\u001B[49m\u001B[43m(\u001B[49m\u001B[43mname\u001B[49m\u001B[43m)\u001B[49m\n\u001B[1;32m     77\u001B[0m \u001B[38;5;28;01mexcept\u001B[39;00m \u001B[38;5;167;01mImportError\u001B[39;00m \u001B[38;5;28;01mas\u001B[39;00m exc:\n\u001B[1;32m     78\u001B[0m     \u001B[38;5;28;01mif\u001B[39;00m \u001B[38;5;124m'\u001B[39m\u001B[38;5;124mdiffq\u001B[39m\u001B[38;5;124m'\u001B[39m \u001B[38;5;129;01min\u001B[39;00m exc\u001B[38;5;241m.\u001B[39margs[\u001B[38;5;241m0\u001B[39m]:\n",
      "File \u001B[0;32m~/miniconda3/envs/advspeech/lib/python3.9/site-packages/demucs/repo.py:148\u001B[0m, in \u001B[0;36mAnyModelRepo.get_model\u001B[0;34m(self, name_or_sig)\u001B[0m\n\u001B[1;32m    146\u001B[0m     \u001B[38;5;28;01mreturn\u001B[39;00m \u001B[38;5;28mself\u001B[39m\u001B[38;5;241m.\u001B[39mmodel_repo\u001B[38;5;241m.\u001B[39mget_model(name_or_sig)\n\u001B[1;32m    147\u001B[0m \u001B[38;5;28;01melse\u001B[39;00m:\n\u001B[0;32m--> 148\u001B[0m     \u001B[38;5;28;01mreturn\u001B[39;00m \u001B[38;5;28;43mself\u001B[39;49m\u001B[38;5;241;43m.\u001B[39;49m\u001B[43mbag_repo\u001B[49m\u001B[38;5;241;43m.\u001B[39;49m\u001B[43mget_model\u001B[49m\u001B[43m(\u001B[49m\u001B[43mname_or_sig\u001B[49m\u001B[43m)\u001B[49m\n",
      "File \u001B[0;32m~/miniconda3/envs/advspeech/lib/python3.9/site-packages/demucs/repo.py:126\u001B[0m, in \u001B[0;36mBagOnlyRepo.get_model\u001B[0;34m(self, name)\u001B[0m\n\u001B[1;32m    124\u001B[0m     yaml_file \u001B[38;5;241m=\u001B[39m \u001B[38;5;28mself\u001B[39m\u001B[38;5;241m.\u001B[39m_bags[name]\n\u001B[1;32m    125\u001B[0m \u001B[38;5;28;01mexcept\u001B[39;00m \u001B[38;5;167;01mKeyError\u001B[39;00m:\n\u001B[0;32m--> 126\u001B[0m     \u001B[38;5;28;01mraise\u001B[39;00m ModelLoadingError(\u001B[38;5;124mf\u001B[39m\u001B[38;5;124m'\u001B[39m\u001B[38;5;132;01m{\u001B[39;00mname\u001B[38;5;132;01m}\u001B[39;00m\u001B[38;5;124m is neither a single pre-trained model or \u001B[39m\u001B[38;5;124m'\u001B[39m\n\u001B[1;32m    127\u001B[0m                             \u001B[38;5;124m'\u001B[39m\u001B[38;5;124ma bag of models.\u001B[39m\u001B[38;5;124m'\u001B[39m)\n\u001B[1;32m    128\u001B[0m bag \u001B[38;5;241m=\u001B[39m yaml\u001B[38;5;241m.\u001B[39msafe_load(\u001B[38;5;28mopen\u001B[39m(yaml_file))\n\u001B[1;32m    129\u001B[0m signatures \u001B[38;5;241m=\u001B[39m bag[\u001B[38;5;124m'\u001B[39m\u001B[38;5;124mmodels\u001B[39m\u001B[38;5;124m'\u001B[39m]\n",
      "\u001B[0;31mModelLoadingError\u001B[0m: htdemucs_single is neither a single pre-trained model or a bag of models."
     ]
    }
   ],
   "source": [
    "denoising_model = get_model('htdemucs_single')"
   ],
   "metadata": {
    "collapsed": false,
    "ExecuteTime": {
     "end_time": "2025-04-29T09:17:23.675696800Z",
     "start_time": "2025-04-29T09:17:23.601615400Z"
    }
   },
   "id": "65cf50991594a8fe",
   "execution_count": 15
  },
  {
   "cell_type": "code",
   "outputs": [
    {
     "ename": "RuntimeError",
     "evalue": "shape '[1, 4, -1, 343980]' is invalid for input of size 3528000",
     "output_type": "error",
     "traceback": [
      "\u001B[0;31m---------------------------------------------------------------------------\u001B[0m",
      "\u001B[0;31mRuntimeError\u001B[0m                              Traceback (most recent call last)",
      "Cell \u001B[0;32mIn[14], line 5\u001B[0m\n\u001B[1;32m      3\u001B[0m \u001B[38;5;28;01mif\u001B[39;00m wave\u001B[38;5;241m.\u001B[39mshape[\u001B[38;5;241m1\u001B[39m] \u001B[38;5;241m==\u001B[39m \u001B[38;5;241m1\u001B[39m:\n\u001B[1;32m      4\u001B[0m     wave \u001B[38;5;241m=\u001B[39m wave\u001B[38;5;241m.\u001B[39mrepeat(\u001B[38;5;241m1\u001B[39m, \u001B[38;5;241m2\u001B[39m, \u001B[38;5;241m1\u001B[39m)                \u001B[38;5;66;03m# -> (1, 2, length)\u001B[39;00m\n\u001B[0;32m----> 5\u001B[0m sources \u001B[38;5;241m=\u001B[39m \u001B[43mapply_model\u001B[49m\u001B[43m(\u001B[49m\u001B[43mdenoising_model\u001B[49m\u001B[43m,\u001B[49m\u001B[43m \u001B[49m\u001B[43mwave\u001B[49m\u001B[43m,\u001B[49m\u001B[43m \u001B[49m\u001B[43msr\u001B[49m\u001B[43m,\u001B[49m\u001B[43m \u001B[49m\u001B[43msegment\u001B[49m\u001B[38;5;241;43m=\u001B[39;49m\u001B[38;5;241;43m10\u001B[39;49m\u001B[43m)\u001B[49m\n\u001B[1;32m      6\u001B[0m vocals  \u001B[38;5;241m=\u001B[39m sources[\u001B[38;5;241m3\u001B[39m, \u001B[38;5;241m0\u001B[39m]\n",
      "File \u001B[0;32m~/miniconda3/envs/advspeech/lib/python3.9/site-packages/demucs/apply.py:189\u001B[0m, in \u001B[0;36mapply_model\u001B[0;34m(model, mix, shifts, split, overlap, transition_power, progress, device, num_workers, segment, pool)\u001B[0m\n\u001B[1;32m    186\u001B[0m original_model_device \u001B[38;5;241m=\u001B[39m \u001B[38;5;28mnext\u001B[39m(\u001B[38;5;28miter\u001B[39m(sub_model\u001B[38;5;241m.\u001B[39mparameters()))\u001B[38;5;241m.\u001B[39mdevice\n\u001B[1;32m    187\u001B[0m sub_model\u001B[38;5;241m.\u001B[39mto(device)\n\u001B[0;32m--> 189\u001B[0m out \u001B[38;5;241m=\u001B[39m \u001B[43mapply_model\u001B[49m\u001B[43m(\u001B[49m\u001B[43msub_model\u001B[49m\u001B[43m,\u001B[49m\u001B[43m \u001B[49m\u001B[43mmix\u001B[49m\u001B[43m,\u001B[49m\u001B[43m \u001B[49m\u001B[38;5;241;43m*\u001B[39;49m\u001B[38;5;241;43m*\u001B[39;49m\u001B[43mkwargs\u001B[49m\u001B[43m)\u001B[49m\n\u001B[1;32m    190\u001B[0m sub_model\u001B[38;5;241m.\u001B[39mto(original_model_device)\n\u001B[1;32m    191\u001B[0m \u001B[38;5;28;01mfor\u001B[39;00m k, inst_weight \u001B[38;5;129;01min\u001B[39;00m \u001B[38;5;28menumerate\u001B[39m(model_weights):\n",
      "File \u001B[0;32m~/miniconda3/envs/advspeech/lib/python3.9/site-packages/demucs/apply.py:216\u001B[0m, in \u001B[0;36mapply_model\u001B[0;34m(model, mix, shifts, split, overlap, transition_power, progress, device, num_workers, segment, pool)\u001B[0m\n\u001B[1;32m    214\u001B[0m     offset \u001B[38;5;241m=\u001B[39m random\u001B[38;5;241m.\u001B[39mrandint(\u001B[38;5;241m0\u001B[39m, max_shift)\n\u001B[1;32m    215\u001B[0m     shifted \u001B[38;5;241m=\u001B[39m TensorChunk(padded_mix, offset, length \u001B[38;5;241m+\u001B[39m max_shift \u001B[38;5;241m-\u001B[39m offset)\n\u001B[0;32m--> 216\u001B[0m     shifted_out \u001B[38;5;241m=\u001B[39m \u001B[43mapply_model\u001B[49m\u001B[43m(\u001B[49m\u001B[43mmodel\u001B[49m\u001B[43m,\u001B[49m\u001B[43m \u001B[49m\u001B[43mshifted\u001B[49m\u001B[43m,\u001B[49m\u001B[43m \u001B[49m\u001B[38;5;241;43m*\u001B[39;49m\u001B[38;5;241;43m*\u001B[39;49m\u001B[43mkwargs\u001B[49m\u001B[43m)\u001B[49m\n\u001B[1;32m    217\u001B[0m     out \u001B[38;5;241m+\u001B[39m\u001B[38;5;241m=\u001B[39m shifted_out[\u001B[38;5;241m.\u001B[39m\u001B[38;5;241m.\u001B[39m\u001B[38;5;241m.\u001B[39m, max_shift \u001B[38;5;241m-\u001B[39m offset:]\n\u001B[1;32m    218\u001B[0m out \u001B[38;5;241m/\u001B[39m\u001B[38;5;241m=\u001B[39m shifts\n",
      "File \u001B[0;32m~/miniconda3/envs/advspeech/lib/python3.9/site-packages/demucs/apply.py:250\u001B[0m, in \u001B[0;36mapply_model\u001B[0;34m(model, mix, shifts, split, overlap, transition_power, progress, device, num_workers, segment, pool)\u001B[0m\n\u001B[1;32m    248\u001B[0m     futures \u001B[38;5;241m=\u001B[39m tqdm\u001B[38;5;241m.\u001B[39mtqdm(futures, unit_scale\u001B[38;5;241m=\u001B[39mscale, ncols\u001B[38;5;241m=\u001B[39m\u001B[38;5;241m120\u001B[39m, unit\u001B[38;5;241m=\u001B[39m\u001B[38;5;124m'\u001B[39m\u001B[38;5;124mseconds\u001B[39m\u001B[38;5;124m'\u001B[39m)\n\u001B[1;32m    249\u001B[0m \u001B[38;5;28;01mfor\u001B[39;00m future, offset \u001B[38;5;129;01min\u001B[39;00m futures:\n\u001B[0;32m--> 250\u001B[0m     chunk_out \u001B[38;5;241m=\u001B[39m \u001B[43mfuture\u001B[49m\u001B[38;5;241;43m.\u001B[39;49m\u001B[43mresult\u001B[49m\u001B[43m(\u001B[49m\u001B[43m)\u001B[49m\n\u001B[1;32m    251\u001B[0m     chunk_length \u001B[38;5;241m=\u001B[39m chunk_out\u001B[38;5;241m.\u001B[39mshape[\u001B[38;5;241m-\u001B[39m\u001B[38;5;241m1\u001B[39m]\n\u001B[1;32m    252\u001B[0m     out[\u001B[38;5;241m.\u001B[39m\u001B[38;5;241m.\u001B[39m\u001B[38;5;241m.\u001B[39m, offset:offset \u001B[38;5;241m+\u001B[39m segment_length] \u001B[38;5;241m+\u001B[39m\u001B[38;5;241m=\u001B[39m (\n\u001B[1;32m    253\u001B[0m         weight[:chunk_length] \u001B[38;5;241m*\u001B[39m chunk_out)\u001B[38;5;241m.\u001B[39mto(mix\u001B[38;5;241m.\u001B[39mdevice)\n",
      "File \u001B[0;32m~/miniconda3/envs/advspeech/lib/python3.9/site-packages/demucs/utils.py:129\u001B[0m, in \u001B[0;36mDummyPoolExecutor.DummyResult.result\u001B[0;34m(self)\u001B[0m\n\u001B[1;32m    128\u001B[0m \u001B[38;5;28;01mdef\u001B[39;00m \u001B[38;5;21mresult\u001B[39m(\u001B[38;5;28mself\u001B[39m):\n\u001B[0;32m--> 129\u001B[0m     \u001B[38;5;28;01mreturn\u001B[39;00m \u001B[38;5;28;43mself\u001B[39;49m\u001B[38;5;241;43m.\u001B[39;49m\u001B[43mfunc\u001B[49m\u001B[43m(\u001B[49m\u001B[38;5;241;43m*\u001B[39;49m\u001B[38;5;28;43mself\u001B[39;49m\u001B[38;5;241;43m.\u001B[39;49m\u001B[43margs\u001B[49m\u001B[43m,\u001B[49m\u001B[43m \u001B[49m\u001B[38;5;241;43m*\u001B[39;49m\u001B[38;5;241;43m*\u001B[39;49m\u001B[38;5;28;43mself\u001B[39;49m\u001B[38;5;241;43m.\u001B[39;49m\u001B[43mkwargs\u001B[49m\u001B[43m)\u001B[49m\n",
      "File \u001B[0;32m~/miniconda3/envs/advspeech/lib/python3.9/site-packages/demucs/apply.py:271\u001B[0m, in \u001B[0;36mapply_model\u001B[0;34m(model, mix, shifts, split, overlap, transition_power, progress, device, num_workers, segment, pool)\u001B[0m\n\u001B[1;32m    269\u001B[0m padded_mix \u001B[38;5;241m=\u001B[39m mix\u001B[38;5;241m.\u001B[39mpadded(valid_length)\u001B[38;5;241m.\u001B[39mto(device)\n\u001B[1;32m    270\u001B[0m \u001B[38;5;28;01mwith\u001B[39;00m th\u001B[38;5;241m.\u001B[39mno_grad():\n\u001B[0;32m--> 271\u001B[0m     out \u001B[38;5;241m=\u001B[39m \u001B[43mmodel\u001B[49m\u001B[43m(\u001B[49m\u001B[43mpadded_mix\u001B[49m\u001B[43m)\u001B[49m\n\u001B[1;32m    272\u001B[0m \u001B[38;5;28;01massert\u001B[39;00m \u001B[38;5;28misinstance\u001B[39m(out, th\u001B[38;5;241m.\u001B[39mTensor)\n\u001B[1;32m    273\u001B[0m \u001B[38;5;28;01mreturn\u001B[39;00m center_trim(out, length)\n",
      "File \u001B[0;32m~/miniconda3/envs/advspeech/lib/python3.9/site-packages/torch/nn/modules/module.py:1739\u001B[0m, in \u001B[0;36mModule._wrapped_call_impl\u001B[0;34m(self, *args, **kwargs)\u001B[0m\n\u001B[1;32m   1737\u001B[0m     \u001B[38;5;28;01mreturn\u001B[39;00m \u001B[38;5;28mself\u001B[39m\u001B[38;5;241m.\u001B[39m_compiled_call_impl(\u001B[38;5;241m*\u001B[39margs, \u001B[38;5;241m*\u001B[39m\u001B[38;5;241m*\u001B[39mkwargs)  \u001B[38;5;66;03m# type: ignore[misc]\u001B[39;00m\n\u001B[1;32m   1738\u001B[0m \u001B[38;5;28;01melse\u001B[39;00m:\n\u001B[0;32m-> 1739\u001B[0m     \u001B[38;5;28;01mreturn\u001B[39;00m \u001B[38;5;28;43mself\u001B[39;49m\u001B[38;5;241;43m.\u001B[39;49m\u001B[43m_call_impl\u001B[49m\u001B[43m(\u001B[49m\u001B[38;5;241;43m*\u001B[39;49m\u001B[43margs\u001B[49m\u001B[43m,\u001B[49m\u001B[43m \u001B[49m\u001B[38;5;241;43m*\u001B[39;49m\u001B[38;5;241;43m*\u001B[39;49m\u001B[43mkwargs\u001B[49m\u001B[43m)\u001B[49m\n",
      "File \u001B[0;32m~/miniconda3/envs/advspeech/lib/python3.9/site-packages/torch/nn/modules/module.py:1750\u001B[0m, in \u001B[0;36mModule._call_impl\u001B[0;34m(self, *args, **kwargs)\u001B[0m\n\u001B[1;32m   1745\u001B[0m \u001B[38;5;66;03m# If we don't have any hooks, we want to skip the rest of the logic in\u001B[39;00m\n\u001B[1;32m   1746\u001B[0m \u001B[38;5;66;03m# this function, and just call forward.\u001B[39;00m\n\u001B[1;32m   1747\u001B[0m \u001B[38;5;28;01mif\u001B[39;00m \u001B[38;5;129;01mnot\u001B[39;00m (\u001B[38;5;28mself\u001B[39m\u001B[38;5;241m.\u001B[39m_backward_hooks \u001B[38;5;129;01mor\u001B[39;00m \u001B[38;5;28mself\u001B[39m\u001B[38;5;241m.\u001B[39m_backward_pre_hooks \u001B[38;5;129;01mor\u001B[39;00m \u001B[38;5;28mself\u001B[39m\u001B[38;5;241m.\u001B[39m_forward_hooks \u001B[38;5;129;01mor\u001B[39;00m \u001B[38;5;28mself\u001B[39m\u001B[38;5;241m.\u001B[39m_forward_pre_hooks\n\u001B[1;32m   1748\u001B[0m         \u001B[38;5;129;01mor\u001B[39;00m _global_backward_pre_hooks \u001B[38;5;129;01mor\u001B[39;00m _global_backward_hooks\n\u001B[1;32m   1749\u001B[0m         \u001B[38;5;129;01mor\u001B[39;00m _global_forward_hooks \u001B[38;5;129;01mor\u001B[39;00m _global_forward_pre_hooks):\n\u001B[0;32m-> 1750\u001B[0m     \u001B[38;5;28;01mreturn\u001B[39;00m \u001B[43mforward_call\u001B[49m\u001B[43m(\u001B[49m\u001B[38;5;241;43m*\u001B[39;49m\u001B[43margs\u001B[49m\u001B[43m,\u001B[49m\u001B[43m \u001B[49m\u001B[38;5;241;43m*\u001B[39;49m\u001B[38;5;241;43m*\u001B[39;49m\u001B[43mkwargs\u001B[49m\u001B[43m)\u001B[49m\n\u001B[1;32m   1752\u001B[0m result \u001B[38;5;241m=\u001B[39m \u001B[38;5;28;01mNone\u001B[39;00m\n\u001B[1;32m   1753\u001B[0m called_always_called_hooks \u001B[38;5;241m=\u001B[39m \u001B[38;5;28mset\u001B[39m()\n",
      "File \u001B[0;32m~/miniconda3/envs/advspeech/lib/python3.9/site-packages/demucs/htdemucs.py:653\u001B[0m, in \u001B[0;36mHTDemucs.forward\u001B[0;34m(self, mix)\u001B[0m\n\u001B[1;32m    651\u001B[0m         xt \u001B[38;5;241m=\u001B[39m xt\u001B[38;5;241m.\u001B[39mview(B, S, \u001B[38;5;241m-\u001B[39m\u001B[38;5;241m1\u001B[39m, length)\n\u001B[1;32m    652\u001B[0m     \u001B[38;5;28;01melse\u001B[39;00m:\n\u001B[0;32m--> 653\u001B[0m         xt \u001B[38;5;241m=\u001B[39m \u001B[43mxt\u001B[49m\u001B[38;5;241;43m.\u001B[39;49m\u001B[43mview\u001B[49m\u001B[43m(\u001B[49m\u001B[43mB\u001B[49m\u001B[43m,\u001B[49m\u001B[43m \u001B[49m\u001B[43mS\u001B[49m\u001B[43m,\u001B[49m\u001B[43m \u001B[49m\u001B[38;5;241;43m-\u001B[39;49m\u001B[38;5;241;43m1\u001B[39;49m\u001B[43m,\u001B[49m\u001B[43m \u001B[49m\u001B[43mtraining_length\u001B[49m\u001B[43m)\u001B[49m\n\u001B[1;32m    654\u001B[0m \u001B[38;5;28;01melse\u001B[39;00m:\n\u001B[1;32m    655\u001B[0m     xt \u001B[38;5;241m=\u001B[39m xt\u001B[38;5;241m.\u001B[39mview(B, S, \u001B[38;5;241m-\u001B[39m\u001B[38;5;241m1\u001B[39m, length)\n",
      "\u001B[0;31mRuntimeError\u001B[0m: shape '[1, 4, -1, 343980]' is invalid for input of size 3528000"
     ]
    }
   ],
   "source": [
    "wave, sr = torchaudio.load(\"./safespeech/VALL-E/1272_1.wav\")\n",
    "wave = wave.unsqueeze(0)\n",
    "if wave.shape[1] == 1:\n",
    "    wave = wave.repeat(1, 2, 1)                # -> (1, 2, length)\n",
    "sources = apply_model(denoising_model, wave, sr, segment=10)\n",
    "vocals  = sources[3, 0]"
   ],
   "metadata": {
    "collapsed": false,
    "ExecuteTime": {
     "end_time": "2025-04-29T09:16:52.038736500Z",
     "start_time": "2025-04-29T09:16:49.353489500Z"
    }
   },
   "id": "66dd466d3a081b0b",
   "execution_count": 14
  },
  {
   "cell_type": "code",
   "outputs": [],
   "source": [],
   "metadata": {
    "collapsed": false
   },
   "id": "7ebdd1bd675ff34a"
  },
  {
   "cell_type": "code",
   "outputs": [],
   "source": [
    "import whisper\n",
    "model = whisper.load_model(\"large\")"
   ],
   "metadata": {
    "collapsed": false
   },
   "id": "d450b353cc354956"
  },
  {
   "cell_type": "code",
   "outputs": [
    {
     "name": "stdout",
     "output_type": "stream",
     "text": [
      " The wise men at their end know dark is bright. Because their words are full of no lightening, they do not go gently into that good man.\n"
     ]
    }
   ],
   "source": [
    "result = model.transcribe(\"./safespeech/SparkTTS/1993_2.wav\", language=\"en\", task=\"transcribe\")\n",
    "print(result[\"text\"])"
   ],
   "metadata": {
    "collapsed": false,
    "ExecuteTime": {
     "end_time": "2025-04-25T18:45:48.626757Z",
     "start_time": "2025-04-25T18:45:48.119135500Z"
    }
   },
   "id": "a2878f0be39ee745",
   "execution_count": 5
  }
 ],
 "metadata": {
  "kernelspec": {
   "display_name": "Python 3",
   "language": "python",
   "name": "python3"
  },
  "language_info": {
   "codemirror_mode": {
    "name": "ipython",
    "version": 2
   },
   "file_extension": ".py",
   "mimetype": "text/x-python",
   "name": "python",
   "nbconvert_exporter": "python",
   "pygments_lexer": "ipython2",
   "version": "2.7.6"
  }
 },
 "nbformat": 4,
 "nbformat_minor": 5
}
